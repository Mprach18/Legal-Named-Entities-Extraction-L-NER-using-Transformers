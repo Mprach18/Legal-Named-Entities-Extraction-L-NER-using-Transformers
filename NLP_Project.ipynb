{
  "nbformat": 4,
  "nbformat_minor": 0,
  "metadata": {
    "colab": {
      "provenance": [],
      "collapsed_sections": [
        "xJltlWGRBhtQ"
      ]
    },
    "kernelspec": {
      "name": "python3",
      "display_name": "Python 3"
    },
    "language_info": {
      "name": "python"
    },
    "gpuClass": "standard"
  },
  "cells": [
    {
      "cell_type": "code",
      "execution_count": null,
      "metadata": {
        "id": "kcysv2ARlPBR"
      },
      "outputs": [],
      "source": [
        "!pip install https://huggingface.co/opennyaiorg/en_legal_ner_trf/resolve/main/en_legal_ner_trf-any-py3-none-any.whl\n",
        "!pip install https://github.com/explosion/spacy-models/releases/download/en_core_web_sm-3.2.0/en_core_web_sm-3.2.0-py3-none-any.whl"
      ]
    },
    {
      "cell_type": "code",
      "source": [
        "cd '/content/drive/MyDrive/NLP/NLP project/legal_NER-main'"
      ],
      "metadata": {
        "colab": {
          "base_uri": "https://localhost:8080/"
        },
        "id": "y2hBSeIru3c-",
        "outputId": "a023ccaa-ec02-4b50-c468-51e77c9bb760"
      },
      "execution_count": null,
      "outputs": [
        {
          "output_type": "stream",
          "name": "stdout",
          "text": [
            "/content/drive/MyDrive/NLP/NLP project/legal_NER-main\n"
          ]
        }
      ]
    },
    {
      "cell_type": "code",
      "source": [
        "!pip install -r requirements.txt"
      ],
      "metadata": {
        "id": "COk0-m-Eu_Kf"
      },
      "execution_count": null,
      "outputs": []
    },
    {
      "cell_type": "code",
      "source": [
        "import pandas as pd\n",
        "\n",
        "with open('./NER_TRAIN/NER_TRAIN_PREAMBLE.json', encoding='utf-8') as inputfile:\n",
        "    df = pd.read_json(inputfile)\n",
        "\n",
        "df.to_csv('csvfile.csv', encoding='utf-8', index=False)"
      ],
      "metadata": {
        "id": "rf1Fz2mr38eb"
      },
      "execution_count": null,
      "outputs": []
    },
    {
      "cell_type": "code",
      "source": [
        "from google.colab import drive\n",
        "drive.mount('/content/drive')"
      ],
      "metadata": {
        "colab": {
          "base_uri": "https://localhost:8080/"
        },
        "id": "hkzNMINzY_gx",
        "outputId": "00991195-e537-4a16-a422-bf240d3ab541"
      },
      "execution_count": null,
      "outputs": [
        {
          "output_type": "stream",
          "name": "stdout",
          "text": [
            "Drive already mounted at /content/drive; to attempt to forcibly remount, call drive.mount(\"/content/drive\", force_remount=True).\n"
          ]
        }
      ]
    },
    {
      "cell_type": "code",
      "source": [
        "df"
      ],
      "metadata": {
        "colab": {
          "base_uri": "https://localhost:8080/",
          "height": 419
        },
        "id": "bsSZXC5d4Pw2",
        "outputId": "73dacb5f-dbee-4499-8359-3ffb4e604900"
      },
      "execution_count": null,
      "outputs": [
        {
          "output_type": "execute_result",
          "data": {
            "text/plain": [
              "                                    id  \\\n",
              "0     d79fb7f965a74e418212458285c7c213   \n",
              "1     10d82191b30e4e9d9b0ab91c34606631   \n",
              "2     b150ace41ceb4acf87d12f75b4748ffc   \n",
              "3     278f93b03a484705b3d96a72aa09be26   \n",
              "4     ceab6a1b200242208a4d6beb042d8743   \n",
              "...                                ...   \n",
              "1555  2b617380eac44e85a80d53e9c067360b   \n",
              "1556  799133f87be04599a0b5367a4a1a23bf   \n",
              "1557  d21055fa778e4579a5711c6ffb1b9560   \n",
              "1558  307722b0639841c9b31418fbc84d7a52   \n",
              "1559  6a6ca041f12b439fb71e2693876356d2   \n",
              "\n",
              "                                            annotations  \\\n",
              "0     [{'result': [{'value': {'start': 7, 'end': 40,...   \n",
              "1     [{'result': [{'value': {'start': 21, 'end': 40...   \n",
              "2     [{'result': [{'value': {'start': 11, 'end': 45...   \n",
              "3     [{'result': [{'value': {'start': 11, 'end': 45...   \n",
              "4     [{'result': [{'value': {'start': 85, 'end': 11...   \n",
              "...                                                 ...   \n",
              "1555  [{'result': [{'value': {'start': 7, 'end': 41,...   \n",
              "1556  [{'result': [{'value': {'start': 12, 'end': 24...   \n",
              "1557  [{'result': [{'value': {'start': 7, 'end': 40,...   \n",
              "1558  [{'result': [{'value': {'start': 16, 'end': 52...   \n",
              "1559  [{'result': [{'value': {'start': 12, 'end': 52...   \n",
              "\n",
              "                                                   data  \\\n",
              "0     {'text': 'In The High Court Of Kerala At Ernak...   \n",
              "1     {'text': 'In The Court Of Shri Lokesh Kumar Sh...   \n",
              "2     {'text': 'Before The Madurai Bench Of Madras H...   \n",
              "3     {'text': 'Before The Madurai Bench Of Madras H...   \n",
              "4     {'text': '1                                   ...   \n",
              "...                                                 ...   \n",
              "1555  {'text': 'In The High Court Of Judicature At M...   \n",
              "1556  {'text': 'Petitioner:\n",
              "Khudiram Das\n",
              "\n",
              "\tVs.\n",
              "\n",
              "Resp...   \n",
              "1557  {'text': 'In The High Court Of Judicature At P...   \n",
              "1558  {'text': 'Petitioner:\n",
              "The Automobile Transport...   \n",
              "1559  {'text': 'Petitioner:\n",
              "East India COMMERClAL Co...   \n",
              "\n",
              "                                                   meta  \n",
              "0     {'source': 'criminal_kerala_high_court preambl...  \n",
              "1     {'source': 'constitution_districtcourts preamb...  \n",
              "2     {'source': 'civil_madras_high_court preamble h...  \n",
              "3     {'source': 'tax_madras_high_court preamble htt...  \n",
              "4     {'source': 'criminal_bombay_high_court preambl...  \n",
              "...                                                 ...  \n",
              "1555  {'source': 'motorvehicles_madras_high_court pr...  \n",
              "1556  {'source': 'criminal_supremecourts preamble ht...  \n",
              "1557  {'source': 'constitution_patna_high_court prea...  \n",
              "1558  {'source': 'tax_supremecourts preamble https:/...  \n",
              "1559  {'source': 'criminal_supremecourts preamble ht...  \n",
              "\n",
              "[1560 rows x 4 columns]"
            ],
            "text/html": [
              "\n",
              "  <div id=\"df-03ed2e24-952f-4768-87ad-95b10f1aa6f3\">\n",
              "    <div class=\"colab-df-container\">\n",
              "      <div>\n",
              "<style scoped>\n",
              "    .dataframe tbody tr th:only-of-type {\n",
              "        vertical-align: middle;\n",
              "    }\n",
              "\n",
              "    .dataframe tbody tr th {\n",
              "        vertical-align: top;\n",
              "    }\n",
              "\n",
              "    .dataframe thead th {\n",
              "        text-align: right;\n",
              "    }\n",
              "</style>\n",
              "<table border=\"1\" class=\"dataframe\">\n",
              "  <thead>\n",
              "    <tr style=\"text-align: right;\">\n",
              "      <th></th>\n",
              "      <th>id</th>\n",
              "      <th>annotations</th>\n",
              "      <th>data</th>\n",
              "      <th>meta</th>\n",
              "    </tr>\n",
              "  </thead>\n",
              "  <tbody>\n",
              "    <tr>\n",
              "      <th>0</th>\n",
              "      <td>d79fb7f965a74e418212458285c7c213</td>\n",
              "      <td>[{'result': [{'value': {'start': 7, 'end': 40,...</td>\n",
              "      <td>{'text': 'In The High Court Of Kerala At Ernak...</td>\n",
              "      <td>{'source': 'criminal_kerala_high_court preambl...</td>\n",
              "    </tr>\n",
              "    <tr>\n",
              "      <th>1</th>\n",
              "      <td>10d82191b30e4e9d9b0ab91c34606631</td>\n",
              "      <td>[{'result': [{'value': {'start': 21, 'end': 40...</td>\n",
              "      <td>{'text': 'In The Court Of Shri Lokesh Kumar Sh...</td>\n",
              "      <td>{'source': 'constitution_districtcourts preamb...</td>\n",
              "    </tr>\n",
              "    <tr>\n",
              "      <th>2</th>\n",
              "      <td>b150ace41ceb4acf87d12f75b4748ffc</td>\n",
              "      <td>[{'result': [{'value': {'start': 11, 'end': 45...</td>\n",
              "      <td>{'text': 'Before The Madurai Bench Of Madras H...</td>\n",
              "      <td>{'source': 'civil_madras_high_court preamble h...</td>\n",
              "    </tr>\n",
              "    <tr>\n",
              "      <th>3</th>\n",
              "      <td>278f93b03a484705b3d96a72aa09be26</td>\n",
              "      <td>[{'result': [{'value': {'start': 11, 'end': 45...</td>\n",
              "      <td>{'text': 'Before The Madurai Bench Of Madras H...</td>\n",
              "      <td>{'source': 'tax_madras_high_court preamble htt...</td>\n",
              "    </tr>\n",
              "    <tr>\n",
              "      <th>4</th>\n",
              "      <td>ceab6a1b200242208a4d6beb042d8743</td>\n",
              "      <td>[{'result': [{'value': {'start': 85, 'end': 11...</td>\n",
              "      <td>{'text': '1                                   ...</td>\n",
              "      <td>{'source': 'criminal_bombay_high_court preambl...</td>\n",
              "    </tr>\n",
              "    <tr>\n",
              "      <th>...</th>\n",
              "      <td>...</td>\n",
              "      <td>...</td>\n",
              "      <td>...</td>\n",
              "      <td>...</td>\n",
              "    </tr>\n",
              "    <tr>\n",
              "      <th>1555</th>\n",
              "      <td>2b617380eac44e85a80d53e9c067360b</td>\n",
              "      <td>[{'result': [{'value': {'start': 7, 'end': 41,...</td>\n",
              "      <td>{'text': 'In The High Court Of Judicature At M...</td>\n",
              "      <td>{'source': 'motorvehicles_madras_high_court pr...</td>\n",
              "    </tr>\n",
              "    <tr>\n",
              "      <th>1556</th>\n",
              "      <td>799133f87be04599a0b5367a4a1a23bf</td>\n",
              "      <td>[{'result': [{'value': {'start': 12, 'end': 24...</td>\n",
              "      <td>{'text': 'Petitioner:\n",
              "Khudiram Das\n",
              "\n",
              "\tVs.\n",
              "\n",
              "Resp...</td>\n",
              "      <td>{'source': 'criminal_supremecourts preamble ht...</td>\n",
              "    </tr>\n",
              "    <tr>\n",
              "      <th>1557</th>\n",
              "      <td>d21055fa778e4579a5711c6ffb1b9560</td>\n",
              "      <td>[{'result': [{'value': {'start': 7, 'end': 40,...</td>\n",
              "      <td>{'text': 'In The High Court Of Judicature At P...</td>\n",
              "      <td>{'source': 'constitution_patna_high_court prea...</td>\n",
              "    </tr>\n",
              "    <tr>\n",
              "      <th>1558</th>\n",
              "      <td>307722b0639841c9b31418fbc84d7a52</td>\n",
              "      <td>[{'result': [{'value': {'start': 16, 'end': 52...</td>\n",
              "      <td>{'text': 'Petitioner:\n",
              "The Automobile Transport...</td>\n",
              "      <td>{'source': 'tax_supremecourts preamble https:/...</td>\n",
              "    </tr>\n",
              "    <tr>\n",
              "      <th>1559</th>\n",
              "      <td>6a6ca041f12b439fb71e2693876356d2</td>\n",
              "      <td>[{'result': [{'value': {'start': 12, 'end': 52...</td>\n",
              "      <td>{'text': 'Petitioner:\n",
              "East India COMMERClAL Co...</td>\n",
              "      <td>{'source': 'criminal_supremecourts preamble ht...</td>\n",
              "    </tr>\n",
              "  </tbody>\n",
              "</table>\n",
              "<p>1560 rows × 4 columns</p>\n",
              "</div>\n",
              "      <button class=\"colab-df-convert\" onclick=\"convertToInteractive('df-03ed2e24-952f-4768-87ad-95b10f1aa6f3')\"\n",
              "              title=\"Convert this dataframe to an interactive table.\"\n",
              "              style=\"display:none;\">\n",
              "        \n",
              "  <svg xmlns=\"http://www.w3.org/2000/svg\" height=\"24px\"viewBox=\"0 0 24 24\"\n",
              "       width=\"24px\">\n",
              "    <path d=\"M0 0h24v24H0V0z\" fill=\"none\"/>\n",
              "    <path d=\"M18.56 5.44l.94 2.06.94-2.06 2.06-.94-2.06-.94-.94-2.06-.94 2.06-2.06.94zm-11 1L8.5 8.5l.94-2.06 2.06-.94-2.06-.94L8.5 2.5l-.94 2.06-2.06.94zm10 10l.94 2.06.94-2.06 2.06-.94-2.06-.94-.94-2.06-.94 2.06-2.06.94z\"/><path d=\"M17.41 7.96l-1.37-1.37c-.4-.4-.92-.59-1.43-.59-.52 0-1.04.2-1.43.59L10.3 9.45l-7.72 7.72c-.78.78-.78 2.05 0 2.83L4 21.41c.39.39.9.59 1.41.59.51 0 1.02-.2 1.41-.59l7.78-7.78 2.81-2.81c.8-.78.8-2.07 0-2.86zM5.41 20L4 18.59l7.72-7.72 1.47 1.35L5.41 20z\"/>\n",
              "  </svg>\n",
              "      </button>\n",
              "      \n",
              "  <style>\n",
              "    .colab-df-container {\n",
              "      display:flex;\n",
              "      flex-wrap:wrap;\n",
              "      gap: 12px;\n",
              "    }\n",
              "\n",
              "    .colab-df-convert {\n",
              "      background-color: #E8F0FE;\n",
              "      border: none;\n",
              "      border-radius: 50%;\n",
              "      cursor: pointer;\n",
              "      display: none;\n",
              "      fill: #1967D2;\n",
              "      height: 32px;\n",
              "      padding: 0 0 0 0;\n",
              "      width: 32px;\n",
              "    }\n",
              "\n",
              "    .colab-df-convert:hover {\n",
              "      background-color: #E2EBFA;\n",
              "      box-shadow: 0px 1px 2px rgba(60, 64, 67, 0.3), 0px 1px 3px 1px rgba(60, 64, 67, 0.15);\n",
              "      fill: #174EA6;\n",
              "    }\n",
              "\n",
              "    [theme=dark] .colab-df-convert {\n",
              "      background-color: #3B4455;\n",
              "      fill: #D2E3FC;\n",
              "    }\n",
              "\n",
              "    [theme=dark] .colab-df-convert:hover {\n",
              "      background-color: #434B5C;\n",
              "      box-shadow: 0px 1px 3px 1px rgba(0, 0, 0, 0.15);\n",
              "      filter: drop-shadow(0px 1px 2px rgba(0, 0, 0, 0.3));\n",
              "      fill: #FFFFFF;\n",
              "    }\n",
              "  </style>\n",
              "\n",
              "      <script>\n",
              "        const buttonEl =\n",
              "          document.querySelector('#df-03ed2e24-952f-4768-87ad-95b10f1aa6f3 button.colab-df-convert');\n",
              "        buttonEl.style.display =\n",
              "          google.colab.kernel.accessAllowed ? 'block' : 'none';\n",
              "\n",
              "        async function convertToInteractive(key) {\n",
              "          const element = document.querySelector('#df-03ed2e24-952f-4768-87ad-95b10f1aa6f3');\n",
              "          const dataTable =\n",
              "            await google.colab.kernel.invokeFunction('convertToInteractive',\n",
              "                                                     [key], {});\n",
              "          if (!dataTable) return;\n",
              "\n",
              "          const docLinkHtml = 'Like what you see? Visit the ' +\n",
              "            '<a target=\"_blank\" href=https://colab.research.google.com/notebooks/data_table.ipynb>data table notebook</a>'\n",
              "            + ' to learn more about interactive tables.';\n",
              "          element.innerHTML = '';\n",
              "          dataTable['output_type'] = 'display_data';\n",
              "          await google.colab.output.renderOutput(dataTable, element);\n",
              "          const docLink = document.createElement('div');\n",
              "          docLink.innerHTML = docLinkHtml;\n",
              "          element.appendChild(docLink);\n",
              "        }\n",
              "      </script>\n",
              "    </div>\n",
              "  </div>\n",
              "  "
            ]
          },
          "metadata": {},
          "execution_count": 7
        }
      ]
    },
    {
      "cell_type": "code",
      "source": [
        "from torch import cuda\n",
        "device = 'cuda' if cuda.is_available() else 'cpu'\n",
        "print(device)"
      ],
      "metadata": {
        "colab": {
          "base_uri": "https://localhost:8080/"
        },
        "id": "hBW_ocP-y-l2",
        "outputId": "82e90711-e9df-4435-886b-e84d7f1698b4"
      },
      "execution_count": null,
      "outputs": [
        {
          "output_type": "stream",
          "name": "stdout",
          "text": [
            "cpu\n"
          ]
        }
      ]
    },
    {
      "cell_type": "markdown",
      "source": [
        "## Text Preprocessing"
      ],
      "metadata": {
        "id": "2R9voaDbyp-k"
      }
    },
    {
      "cell_type": "markdown",
      "source": [
        "### Preproceesing annotations start"
      ],
      "metadata": {
        "id": "aKI6tKImywff"
      }
    },
    {
      "cell_type": "code",
      "source": [
        "annotations_column = df['annotations']"
      ],
      "metadata": {
        "id": "ZKsYxKtnvRHh"
      },
      "execution_count": null,
      "outputs": []
    },
    {
      "cell_type": "code",
      "source": [],
      "metadata": {
        "id": "Dj5k5IV0X_Aj"
      },
      "execution_count": null,
      "outputs": []
    },
    {
      "cell_type": "code",
      "source": [
        "annotations_column =  annotations_column.to_numpy()"
      ],
      "metadata": {
        "id": "JUZDJyD6zCa5"
      },
      "execution_count": null,
      "outputs": []
    },
    {
      "cell_type": "code",
      "source": [
        "annotation_start = []\n",
        "annotation_end = []\n",
        "\n",
        "\n",
        "for sent in annotations_column:\n",
        "  sent_start = []\n",
        "  sent_end = []\n",
        "  sent_text = []\n",
        "  sent_label = []\n",
        "  for sent_res in sent:\n",
        "    for res_value in sent_res['result']:\n",
        "      sent_start.append(res_value['value']['start'])\n",
        "\n",
        "    for res_value in sent_res['result']:\n",
        "      sent_end.append(res_value['value']['end'])\n",
        "    \n",
        "\n",
        "\n",
        "  annotation_start.append(sent_start)\n",
        "  annotation_end.append(sent_end)\n"
      ],
      "metadata": {
        "id": "0pyFVEYrzEWn"
      },
      "execution_count": null,
      "outputs": []
    },
    {
      "cell_type": "code",
      "source": [
        "annotation_start[0]"
      ],
      "metadata": {
        "colab": {
          "base_uri": "https://localhost:8080/"
        },
        "id": "TqoV2MEGzZFS",
        "outputId": "246e43c4-b777-4297-916f-82c996bc0782"
      },
      "execution_count": null,
      "outputs": [
        {
          "output_type": "execute_result",
          "data": {
            "text/plain": [
              "[7, 73, 171, 237, 304, 350, 391, 425]"
            ]
          },
          "metadata": {},
          "execution_count": 12
        }
      ]
    },
    {
      "cell_type": "code",
      "source": [
        "len(annotation_end)"
      ],
      "metadata": {
        "colab": {
          "base_uri": "https://localhost:8080/"
        },
        "id": "ap2iUVcf3btv",
        "outputId": "e06a5d5a-6537-4d14-cbf0-5ef790ebc9a8"
      },
      "execution_count": null,
      "outputs": [
        {
          "output_type": "execute_result",
          "data": {
            "text/plain": [
              "1560"
            ]
          },
          "metadata": {},
          "execution_count": 13
        }
      ]
    },
    {
      "cell_type": "code",
      "source": [
        "annotation_text = []\n",
        "annotation_label = []\n",
        "for sent in annotations_column:\n",
        "    sent_text = []\n",
        "    sent_label = []\n",
        "    for sent_res in sent:\n",
        "\n",
        "        for res_value in sent_res['result']:\n",
        "          sent_text.append(res_value['value']['text'])\n",
        "        \n",
        "        for res_value in sent_res['result']:\n",
        "          sent_label.append(res_value['value']['labels']) \n",
        "\n",
        "    annotation_text.append(sent_text)\n",
        "    annotation_label.append(sent_label)"
      ],
      "metadata": {
        "id": "Tm_wBTRT4cs3"
      },
      "execution_count": null,
      "outputs": []
    },
    {
      "cell_type": "code",
      "source": [
        "annotation_text[0]"
      ],
      "metadata": {
        "colab": {
          "base_uri": "https://localhost:8080/"
        },
        "id": "wJAR-L2z5tvO",
        "outputId": "3320601f-a5cb-40b4-ab80-9d16723276d4"
      },
      "execution_count": null,
      "outputs": [
        {
          "output_type": "execute_result",
          "data": {
            "text/plain": [
              "['High Court Of Kerala At Ernakulam',\n",
              " 'T.R.Ajayan',\n",
              " 'M.Ravindran',\n",
              " 'Nirmala Dinesh',\n",
              " 'A.Kumar',\n",
              " 'M.K.Pushpalatha',\n",
              " 'P.R.Raman',\n",
              " 'V.K.Mohanan']"
            ]
          },
          "metadata": {},
          "execution_count": 15
        }
      ]
    },
    {
      "cell_type": "code",
      "source": [
        "annotation_label[0]"
      ],
      "metadata": {
        "colab": {
          "base_uri": "https://localhost:8080/"
        },
        "id": "ArjXLmE05y1M",
        "outputId": "a2d4908b-b903-4b20-bf16-3e6da4c66dfd"
      },
      "execution_count": null,
      "outputs": [
        {
          "output_type": "execute_result",
          "data": {
            "text/plain": [
              "[['COURT'],\n",
              " ['PETITIONER'],\n",
              " ['RESPONDENT'],\n",
              " ['RESPONDENT'],\n",
              " ['LAWYER'],\n",
              " ['LAWYER'],\n",
              " ['JUDGE'],\n",
              " ['JUDGE']]"
            ]
          },
          "metadata": {},
          "execution_count": 16
        }
      ]
    },
    {
      "cell_type": "code",
      "source": [
        "column_names = ['start', 'end' , 'text' , 'labels']\n",
        "\n",
        "final_df = pd.DataFrame()\n",
        "final_df['start'] = annotation_start\n",
        "final_df['end'] = annotation_end\n",
        "final_df['text'] = annotation_text\n",
        "final_df['labels'] = annotation_label\n",
        "\n",
        "final_df.head()"
      ],
      "metadata": {
        "id": "qBJmy7RF55kc",
        "colab": {
          "base_uri": "https://localhost:8080/",
          "height": 333
        },
        "outputId": "9914daf1-deee-4fae-8a65-7ff969a893cd"
      },
      "execution_count": null,
      "outputs": [
        {
          "output_type": "execute_result",
          "data": {
            "text/plain": [
              "                                               start  \\\n",
              "0              [7, 73, 171, 237, 304, 350, 391, 425]   \n",
              "1  [21, 371, 445, 689, 741, 852, 1007, 1035, 1111...   \n",
              "2  [11, 98, 192, 208, 219, 237, 253, 265, 281, 29...   \n",
              "3  [11, 99, 144, 305, 461, 593, 695, 1335, 1364, ...   \n",
              "4  [85, 435, 614, 773, 879, 997, 1276, 1598, 1658...   \n",
              "\n",
              "                                                 end  \\\n",
              "0             [40, 83, 182, 251, 311, 365, 400, 436]   \n",
              "1  [40, 383, 470, 698, 764, 869, 1031, 1047, 1121...   \n",
              "2  [45, 115, 204, 215, 233, 249, 261, 277, 295, 3...   \n",
              "3  [45, 112, 229, 330, 473, 604, 784, 1350, 1375,...   \n",
              "4  [119, 460, 637, 798, 887, 1035, 1296, 1617, 16...   \n",
              "\n",
              "                                                text  \\\n",
              "0  [High Court Of Kerala At Ernakulam, T.R.Ajayan...   \n",
              "1  [Lokesh Kumar Sharma, Chanakyapuri, Jindal Ste...   \n",
              "2  [Madurai Bench Of Madras High Court, V.Ramasub...   \n",
              "3  [Madurai Bench Of Madras High Court, T.Sudanth...   \n",
              "4  [High Court Of Judicature At Bombay, Motiram M...   \n",
              "\n",
              "                                              labels  \n",
              "0  [[COURT], [PETITIONER], [RESPONDENT], [RESPOND...  \n",
              "1  [[JUDGE], [PETITIONER], [RESPONDENT], [RESPOND...  \n",
              "2  [[COURT], [JUDGE], [PETITIONER], [PETITIONER],...  \n",
              "3  [[COURT], [JUDGE], [PETITIONER], [RESPONDENT],...  \n",
              "4  [[COURT], [PETITIONER], [RESPONDENT], [PETITIO...  "
            ],
            "text/html": [
              "\n",
              "  <div id=\"df-523a8d57-e409-4e43-943f-98c5d22fa441\">\n",
              "    <div class=\"colab-df-container\">\n",
              "      <div>\n",
              "<style scoped>\n",
              "    .dataframe tbody tr th:only-of-type {\n",
              "        vertical-align: middle;\n",
              "    }\n",
              "\n",
              "    .dataframe tbody tr th {\n",
              "        vertical-align: top;\n",
              "    }\n",
              "\n",
              "    .dataframe thead th {\n",
              "        text-align: right;\n",
              "    }\n",
              "</style>\n",
              "<table border=\"1\" class=\"dataframe\">\n",
              "  <thead>\n",
              "    <tr style=\"text-align: right;\">\n",
              "      <th></th>\n",
              "      <th>start</th>\n",
              "      <th>end</th>\n",
              "      <th>text</th>\n",
              "      <th>labels</th>\n",
              "    </tr>\n",
              "  </thead>\n",
              "  <tbody>\n",
              "    <tr>\n",
              "      <th>0</th>\n",
              "      <td>[7, 73, 171, 237, 304, 350, 391, 425]</td>\n",
              "      <td>[40, 83, 182, 251, 311, 365, 400, 436]</td>\n",
              "      <td>[High Court Of Kerala At Ernakulam, T.R.Ajayan...</td>\n",
              "      <td>[[COURT], [PETITIONER], [RESPONDENT], [RESPOND...</td>\n",
              "    </tr>\n",
              "    <tr>\n",
              "      <th>1</th>\n",
              "      <td>[21, 371, 445, 689, 741, 852, 1007, 1035, 1111...</td>\n",
              "      <td>[40, 383, 470, 698, 764, 869, 1031, 1047, 1121...</td>\n",
              "      <td>[Lokesh Kumar Sharma, Chanakyapuri, Jindal Ste...</td>\n",
              "      <td>[[JUDGE], [PETITIONER], [RESPONDENT], [RESPOND...</td>\n",
              "    </tr>\n",
              "    <tr>\n",
              "      <th>2</th>\n",
              "      <td>[11, 98, 192, 208, 219, 237, 253, 265, 281, 29...</td>\n",
              "      <td>[45, 115, 204, 215, 233, 249, 261, 277, 295, 3...</td>\n",
              "      <td>[Madurai Bench Of Madras High Court, V.Ramasub...</td>\n",
              "      <td>[[COURT], [JUDGE], [PETITIONER], [PETITIONER],...</td>\n",
              "    </tr>\n",
              "    <tr>\n",
              "      <th>3</th>\n",
              "      <td>[11, 99, 144, 305, 461, 593, 695, 1335, 1364, ...</td>\n",
              "      <td>[45, 112, 229, 330, 473, 604, 784, 1350, 1375,...</td>\n",
              "      <td>[Madurai Bench Of Madras High Court, T.Sudanth...</td>\n",
              "      <td>[[COURT], [JUDGE], [PETITIONER], [RESPONDENT],...</td>\n",
              "    </tr>\n",
              "    <tr>\n",
              "      <th>4</th>\n",
              "      <td>[85, 435, 614, 773, 879, 997, 1276, 1598, 1658...</td>\n",
              "      <td>[119, 460, 637, 798, 887, 1035, 1296, 1617, 16...</td>\n",
              "      <td>[High Court Of Judicature At Bombay, Motiram M...</td>\n",
              "      <td>[[COURT], [PETITIONER], [RESPONDENT], [PETITIO...</td>\n",
              "    </tr>\n",
              "  </tbody>\n",
              "</table>\n",
              "</div>\n",
              "      <button class=\"colab-df-convert\" onclick=\"convertToInteractive('df-523a8d57-e409-4e43-943f-98c5d22fa441')\"\n",
              "              title=\"Convert this dataframe to an interactive table.\"\n",
              "              style=\"display:none;\">\n",
              "        \n",
              "  <svg xmlns=\"http://www.w3.org/2000/svg\" height=\"24px\"viewBox=\"0 0 24 24\"\n",
              "       width=\"24px\">\n",
              "    <path d=\"M0 0h24v24H0V0z\" fill=\"none\"/>\n",
              "    <path d=\"M18.56 5.44l.94 2.06.94-2.06 2.06-.94-2.06-.94-.94-2.06-.94 2.06-2.06.94zm-11 1L8.5 8.5l.94-2.06 2.06-.94-2.06-.94L8.5 2.5l-.94 2.06-2.06.94zm10 10l.94 2.06.94-2.06 2.06-.94-2.06-.94-.94-2.06-.94 2.06-2.06.94z\"/><path d=\"M17.41 7.96l-1.37-1.37c-.4-.4-.92-.59-1.43-.59-.52 0-1.04.2-1.43.59L10.3 9.45l-7.72 7.72c-.78.78-.78 2.05 0 2.83L4 21.41c.39.39.9.59 1.41.59.51 0 1.02-.2 1.41-.59l7.78-7.78 2.81-2.81c.8-.78.8-2.07 0-2.86zM5.41 20L4 18.59l7.72-7.72 1.47 1.35L5.41 20z\"/>\n",
              "  </svg>\n",
              "      </button>\n",
              "      \n",
              "  <style>\n",
              "    .colab-df-container {\n",
              "      display:flex;\n",
              "      flex-wrap:wrap;\n",
              "      gap: 12px;\n",
              "    }\n",
              "\n",
              "    .colab-df-convert {\n",
              "      background-color: #E8F0FE;\n",
              "      border: none;\n",
              "      border-radius: 50%;\n",
              "      cursor: pointer;\n",
              "      display: none;\n",
              "      fill: #1967D2;\n",
              "      height: 32px;\n",
              "      padding: 0 0 0 0;\n",
              "      width: 32px;\n",
              "    }\n",
              "\n",
              "    .colab-df-convert:hover {\n",
              "      background-color: #E2EBFA;\n",
              "      box-shadow: 0px 1px 2px rgba(60, 64, 67, 0.3), 0px 1px 3px 1px rgba(60, 64, 67, 0.15);\n",
              "      fill: #174EA6;\n",
              "    }\n",
              "\n",
              "    [theme=dark] .colab-df-convert {\n",
              "      background-color: #3B4455;\n",
              "      fill: #D2E3FC;\n",
              "    }\n",
              "\n",
              "    [theme=dark] .colab-df-convert:hover {\n",
              "      background-color: #434B5C;\n",
              "      box-shadow: 0px 1px 3px 1px rgba(0, 0, 0, 0.15);\n",
              "      filter: drop-shadow(0px 1px 2px rgba(0, 0, 0, 0.3));\n",
              "      fill: #FFFFFF;\n",
              "    }\n",
              "  </style>\n",
              "\n",
              "      <script>\n",
              "        const buttonEl =\n",
              "          document.querySelector('#df-523a8d57-e409-4e43-943f-98c5d22fa441 button.colab-df-convert');\n",
              "        buttonEl.style.display =\n",
              "          google.colab.kernel.accessAllowed ? 'block' : 'none';\n",
              "\n",
              "        async function convertToInteractive(key) {\n",
              "          const element = document.querySelector('#df-523a8d57-e409-4e43-943f-98c5d22fa441');\n",
              "          const dataTable =\n",
              "            await google.colab.kernel.invokeFunction('convertToInteractive',\n",
              "                                                     [key], {});\n",
              "          if (!dataTable) return;\n",
              "\n",
              "          const docLinkHtml = 'Like what you see? Visit the ' +\n",
              "            '<a target=\"_blank\" href=https://colab.research.google.com/notebooks/data_table.ipynb>data table notebook</a>'\n",
              "            + ' to learn more about interactive tables.';\n",
              "          element.innerHTML = '';\n",
              "          dataTable['output_type'] = 'display_data';\n",
              "          await google.colab.output.renderOutput(dataTable, element);\n",
              "          const docLink = document.createElement('div');\n",
              "          docLink.innerHTML = docLinkHtml;\n",
              "          element.appendChild(docLink);\n",
              "        }\n",
              "      </script>\n",
              "    </div>\n",
              "  </div>\n",
              "  "
            ]
          },
          "metadata": {},
          "execution_count": 17
        }
      ]
    },
    {
      "cell_type": "code",
      "source": [
        "for a,b,c,d in zip(annotation_start[:2], annotation_end[:2],annotation_text[:2],annotation_label[:2]):\n",
        "  print(a,b,c,d)"
      ],
      "metadata": {
        "colab": {
          "base_uri": "https://localhost:8080/"
        },
        "id": "3OJNuFO26o_j",
        "outputId": "e83d08ae-bdfd-4065-c36a-e39bc70343d9"
      },
      "execution_count": null,
      "outputs": [
        {
          "output_type": "stream",
          "name": "stdout",
          "text": [
            "[7, 73, 171, 237, 304, 350, 391, 425] [40, 83, 182, 251, 311, 365, 400, 436] ['High Court Of Kerala At Ernakulam', 'T.R.Ajayan', 'M.Ravindran', 'Nirmala Dinesh', 'A.Kumar', 'M.K.Pushpalatha', 'P.R.Raman', 'V.K.Mohanan'] [['COURT'], ['PETITIONER'], ['RESPONDENT'], ['RESPONDENT'], ['LAWYER'], ['LAWYER'], ['JUDGE'], ['JUDGE']]\n",
            "[21, 371, 445, 689, 741, 852, 1007, 1035, 1111, 1245] [40, 383, 470, 698, 764, 869, 1031, 1047, 1121, 1255] ['Lokesh Kumar Sharma', 'Chanakyapuri', 'Jindal Steel & Power Ltd.', 'The State', 'Planman Media Pvt. Ltd.', 'Arindam Chaudhuri', 'Jindal Steel & Power Ltd', 'State & Ors.', 'A. Sandeep', 'Ashok Bose'] [['JUDGE'], ['PETITIONER'], ['RESPONDENT'], ['RESPONDENT'], ['RESPONDENT'], ['RESPONDENT'], ['RESPONDENT'], ['RESPONDENT'], ['LAWYER'], ['LAWYER']]\n"
          ]
        }
      ]
    },
    {
      "cell_type": "code",
      "source": [
        "zip(annotation_start[0], annotation_end[0])"
      ],
      "metadata": {
        "colab": {
          "base_uri": "https://localhost:8080/"
        },
        "id": "Trrye0sy7Axj",
        "outputId": "8e4f41c0-8eed-457b-9668-a5dbd7de2070"
      },
      "execution_count": null,
      "outputs": [
        {
          "output_type": "execute_result",
          "data": {
            "text/plain": [
              "<zip at 0x7f1725161100>"
            ]
          },
          "metadata": {},
          "execution_count": 19
        }
      ]
    },
    {
      "cell_type": "code",
      "source": [
        "pwd"
      ],
      "metadata": {
        "colab": {
          "base_uri": "https://localhost:8080/",
          "height": 37
        },
        "id": "ERCc-p5M7nLL",
        "outputId": "385b7148-5c90-4918-95c7-3e3690bd7a28"
      },
      "execution_count": null,
      "outputs": [
        {
          "output_type": "execute_result",
          "data": {
            "text/plain": [
              "'/content/drive/My Drive/NLP/NLP project/legal_NER-main'"
            ],
            "application/vnd.google.colaboratory.intrinsic+json": {
              "type": "string"
            }
          },
          "metadata": {},
          "execution_count": 20
        }
      ]
    },
    {
      "cell_type": "code",
      "source": [
        "final_df.to_csv('Processed DataFrame')"
      ],
      "metadata": {
        "id": "ws9Hs-Gx9zJu"
      },
      "execution_count": null,
      "outputs": []
    },
    {
      "cell_type": "code",
      "source": [],
      "metadata": {
        "id": "P_Vp6HdJ-FWx"
      },
      "execution_count": null,
      "outputs": []
    },
    {
      "cell_type": "markdown",
      "source": [
        "## IOB tagging"
      ],
      "metadata": {
        "id": "xJltlWGRBhtQ"
      }
    },
    {
      "cell_type": "code",
      "source": [
        "import pandas as pd\n",
        "\n",
        "df_ = pd.read_csv('/content/drive/MyDrive/NLP/NLP project/legal_NER-main/Processed DataFrame')\n",
        "df_.head()"
      ],
      "metadata": {
        "colab": {
          "base_uri": "https://localhost:8080/",
          "height": 965
        },
        "id": "_H_KkWBoBk_3",
        "outputId": "e53c26b7-7058-4d84-dd21-a8d21dc990b8"
      },
      "execution_count": null,
      "outputs": [
        {
          "output_type": "execute_result",
          "data": {
            "text/plain": [
              "   Unnamed: 0                                              start  \\\n",
              "0           0              [7, 73, 171, 237, 304, 350, 391, 425]   \n",
              "1           1  [21, 371, 445, 689, 741, 852, 1007, 1035, 1111...   \n",
              "2           2  [11, 98, 192, 208, 219, 237, 253, 265, 281, 29...   \n",
              "3           3  [11, 99, 144, 305, 461, 593, 695, 1335, 1364, ...   \n",
              "4           4  [85, 435, 614, 773, 879, 997, 1276, 1598, 1658...   \n",
              "\n",
              "                                                 end  \\\n",
              "0             [40, 83, 182, 251, 311, 365, 400, 436]   \n",
              "1  [40, 383, 470, 698, 764, 869, 1031, 1047, 1121...   \n",
              "2  [45, 115, 204, 215, 233, 249, 261, 277, 295, 3...   \n",
              "3  [45, 112, 229, 330, 473, 604, 784, 1350, 1375,...   \n",
              "4  [119, 460, 637, 798, 887, 1035, 1296, 1617, 16...   \n",
              "\n",
              "                                                text  \\\n",
              "0  ['High Court Of Kerala At Ernakulam', 'T.R.Aja...   \n",
              "1  ['Lokesh Kumar Sharma', 'Chanakyapuri', 'Jinda...   \n",
              "2  ['Madurai Bench Of Madras High Court', 'V.Rama...   \n",
              "3  ['Madurai Bench Of Madras High Court', 'T.Suda...   \n",
              "4  ['High Court Of Judicature At Bombay', 'Motira...   \n",
              "\n",
              "                                              labels  \n",
              "0  [['COURT'], ['PETITIONER'], ['RESPONDENT'], ['...  \n",
              "1  [['JUDGE'], ['PETITIONER'], ['RESPONDENT'], ['...  \n",
              "2  [['COURT'], ['JUDGE'], ['PETITIONER'], ['PETIT...  \n",
              "3  [['COURT'], ['JUDGE'], ['PETITIONER'], ['RESPO...  \n",
              "4  [['COURT'], ['PETITIONER'], ['RESPONDENT'], ['...  "
            ],
            "text/html": [
              "\n",
              "  <div id=\"df-75dbb8a4-4dbb-4703-bc97-4d54c2438ab0\">\n",
              "    <div class=\"colab-df-container\">\n",
              "      <div>\n",
              "<style scoped>\n",
              "    .dataframe tbody tr th:only-of-type {\n",
              "        vertical-align: middle;\n",
              "    }\n",
              "\n",
              "    .dataframe tbody tr th {\n",
              "        vertical-align: top;\n",
              "    }\n",
              "\n",
              "    .dataframe thead th {\n",
              "        text-align: right;\n",
              "    }\n",
              "</style>\n",
              "<table border=\"1\" class=\"dataframe\">\n",
              "  <thead>\n",
              "    <tr style=\"text-align: right;\">\n",
              "      <th></th>\n",
              "      <th>Unnamed: 0</th>\n",
              "      <th>start</th>\n",
              "      <th>end</th>\n",
              "      <th>text</th>\n",
              "      <th>labels</th>\n",
              "    </tr>\n",
              "  </thead>\n",
              "  <tbody>\n",
              "    <tr>\n",
              "      <th>0</th>\n",
              "      <td>0</td>\n",
              "      <td>[7, 73, 171, 237, 304, 350, 391, 425]</td>\n",
              "      <td>[40, 83, 182, 251, 311, 365, 400, 436]</td>\n",
              "      <td>['High Court Of Kerala At Ernakulam', 'T.R.Aja...</td>\n",
              "      <td>[['COURT'], ['PETITIONER'], ['RESPONDENT'], ['...</td>\n",
              "    </tr>\n",
              "    <tr>\n",
              "      <th>1</th>\n",
              "      <td>1</td>\n",
              "      <td>[21, 371, 445, 689, 741, 852, 1007, 1035, 1111...</td>\n",
              "      <td>[40, 383, 470, 698, 764, 869, 1031, 1047, 1121...</td>\n",
              "      <td>['Lokesh Kumar Sharma', 'Chanakyapuri', 'Jinda...</td>\n",
              "      <td>[['JUDGE'], ['PETITIONER'], ['RESPONDENT'], ['...</td>\n",
              "    </tr>\n",
              "    <tr>\n",
              "      <th>2</th>\n",
              "      <td>2</td>\n",
              "      <td>[11, 98, 192, 208, 219, 237, 253, 265, 281, 29...</td>\n",
              "      <td>[45, 115, 204, 215, 233, 249, 261, 277, 295, 3...</td>\n",
              "      <td>['Madurai Bench Of Madras High Court', 'V.Rama...</td>\n",
              "      <td>[['COURT'], ['JUDGE'], ['PETITIONER'], ['PETIT...</td>\n",
              "    </tr>\n",
              "    <tr>\n",
              "      <th>3</th>\n",
              "      <td>3</td>\n",
              "      <td>[11, 99, 144, 305, 461, 593, 695, 1335, 1364, ...</td>\n",
              "      <td>[45, 112, 229, 330, 473, 604, 784, 1350, 1375,...</td>\n",
              "      <td>['Madurai Bench Of Madras High Court', 'T.Suda...</td>\n",
              "      <td>[['COURT'], ['JUDGE'], ['PETITIONER'], ['RESPO...</td>\n",
              "    </tr>\n",
              "    <tr>\n",
              "      <th>4</th>\n",
              "      <td>4</td>\n",
              "      <td>[85, 435, 614, 773, 879, 997, 1276, 1598, 1658...</td>\n",
              "      <td>[119, 460, 637, 798, 887, 1035, 1296, 1617, 16...</td>\n",
              "      <td>['High Court Of Judicature At Bombay', 'Motira...</td>\n",
              "      <td>[['COURT'], ['PETITIONER'], ['RESPONDENT'], ['...</td>\n",
              "    </tr>\n",
              "  </tbody>\n",
              "</table>\n",
              "</div>\n",
              "      <button class=\"colab-df-convert\" onclick=\"convertToInteractive('df-75dbb8a4-4dbb-4703-bc97-4d54c2438ab0')\"\n",
              "              title=\"Convert this dataframe to an interactive table.\"\n",
              "              style=\"display:none;\">\n",
              "        \n",
              "  <svg xmlns=\"http://www.w3.org/2000/svg\" height=\"24px\"viewBox=\"0 0 24 24\"\n",
              "       width=\"24px\">\n",
              "    <path d=\"M0 0h24v24H0V0z\" fill=\"none\"/>\n",
              "    <path d=\"M18.56 5.44l.94 2.06.94-2.06 2.06-.94-2.06-.94-.94-2.06-.94 2.06-2.06.94zm-11 1L8.5 8.5l.94-2.06 2.06-.94-2.06-.94L8.5 2.5l-.94 2.06-2.06.94zm10 10l.94 2.06.94-2.06 2.06-.94-2.06-.94-.94-2.06-.94 2.06-2.06.94z\"/><path d=\"M17.41 7.96l-1.37-1.37c-.4-.4-.92-.59-1.43-.59-.52 0-1.04.2-1.43.59L10.3 9.45l-7.72 7.72c-.78.78-.78 2.05 0 2.83L4 21.41c.39.39.9.59 1.41.59.51 0 1.02-.2 1.41-.59l7.78-7.78 2.81-2.81c.8-.78.8-2.07 0-2.86zM5.41 20L4 18.59l7.72-7.72 1.47 1.35L5.41 20z\"/>\n",
              "  </svg>\n",
              "      </button>\n",
              "      \n",
              "  <style>\n",
              "    .colab-df-container {\n",
              "      display:flex;\n",
              "      flex-wrap:wrap;\n",
              "      gap: 12px;\n",
              "    }\n",
              "\n",
              "    .colab-df-convert {\n",
              "      background-color: #E8F0FE;\n",
              "      border: none;\n",
              "      border-radius: 50%;\n",
              "      cursor: pointer;\n",
              "      display: none;\n",
              "      fill: #1967D2;\n",
              "      height: 32px;\n",
              "      padding: 0 0 0 0;\n",
              "      width: 32px;\n",
              "    }\n",
              "\n",
              "    .colab-df-convert:hover {\n",
              "      background-color: #E2EBFA;\n",
              "      box-shadow: 0px 1px 2px rgba(60, 64, 67, 0.3), 0px 1px 3px 1px rgba(60, 64, 67, 0.15);\n",
              "      fill: #174EA6;\n",
              "    }\n",
              "\n",
              "    [theme=dark] .colab-df-convert {\n",
              "      background-color: #3B4455;\n",
              "      fill: #D2E3FC;\n",
              "    }\n",
              "\n",
              "    [theme=dark] .colab-df-convert:hover {\n",
              "      background-color: #434B5C;\n",
              "      box-shadow: 0px 1px 3px 1px rgba(0, 0, 0, 0.15);\n",
              "      filter: drop-shadow(0px 1px 2px rgba(0, 0, 0, 0.3));\n",
              "      fill: #FFFFFF;\n",
              "    }\n",
              "  </style>\n",
              "\n",
              "      <script>\n",
              "        const buttonEl =\n",
              "          document.querySelector('#df-75dbb8a4-4dbb-4703-bc97-4d54c2438ab0 button.colab-df-convert');\n",
              "        buttonEl.style.display =\n",
              "          google.colab.kernel.accessAllowed ? 'block' : 'none';\n",
              "\n",
              "        async function convertToInteractive(key) {\n",
              "          const element = document.querySelector('#df-75dbb8a4-4dbb-4703-bc97-4d54c2438ab0');\n",
              "          const dataTable =\n",
              "            await google.colab.kernel.invokeFunction('convertToInteractive',\n",
              "                                                     [key], {});\n",
              "          if (!dataTable) return;\n",
              "\n",
              "          const docLinkHtml = 'Like what you see? Visit the ' +\n",
              "            '<a target=\"_blank\" href=https://colab.research.google.com/notebooks/data_table.ipynb>data table notebook</a>'\n",
              "            + ' to learn more about interactive tables.';\n",
              "          element.innerHTML = '';\n",
              "          dataTable['output_type'] = 'display_data';\n",
              "          await google.colab.output.renderOutput(dataTable, element);\n",
              "          const docLink = document.createElement('div');\n",
              "          docLink.innerHTML = docLinkHtml;\n",
              "          element.appendChild(docLink);\n",
              "        }\n",
              "      </script>\n",
              "    </div>\n",
              "  </div>\n",
              "  "
            ]
          },
          "metadata": {},
          "execution_count": 22
        }
      ]
    },
    {
      "cell_type": "code",
      "source": [
        "text = df.iloc[[0]]['data']"
      ],
      "metadata": {
        "id": "J9B7KSJLC0ax"
      },
      "execution_count": null,
      "outputs": []
    },
    {
      "cell_type": "code",
      "source": [
        "text[0]['text']"
      ],
      "metadata": {
        "colab": {
          "base_uri": "https://localhost:8080/",
          "height": 1000
        },
        "id": "ef2xjJ24JKa0",
        "outputId": "af40e30e-f1e7-4739-a207-675b20cc413c"
      },
      "execution_count": null,
      "outputs": [
        {
          "output_type": "execute_result",
          "data": {
            "text/plain": [
              "\"In The High Court Of Kerala At Ernakulam\\n\\nCrl Mc No. 1622 of 2006()\\n\\n\\n1. T.R.Ajayan, S/O. O.Raman,\\n                      ...  Petitioner\\n\\n                        Vs\\n\\n\\n\\n1. M.Ravindran,\\n                       ...       Respondent\\n\\n2. Mrs. Nirmala Dinesh, W/O. Dinesh,\\n\\n                For Petitioner  :Sri.A.Kumar\\n\\n                For Respondent  :Smt.M.K.Pushpalatha\\n\\nThe Hon'ble Mr. Justice P.R.Raman\\nThe Hon'ble Mr. Justice V.K.Mohanan\\n\\n Dated :07/01/2008\\n\\n O R D E R\\n\""
            ],
            "application/vnd.google.colaboratory.intrinsic+json": {
              "type": "string"
            }
          },
          "metadata": {},
          "execution_count": 24
        }
      ]
    },
    {
      "cell_type": "code",
      "source": [
        "import spacy\n",
        "nlp = spacy.load('en_core_web_sm')\n",
        "\n",
        "doc = nlp(text[0]['text'])\n",
        "\n",
        "for d in doc:\n",
        "  print(d.text)"
      ],
      "metadata": {
        "id": "bVW61VVMC-4Y",
        "colab": {
          "base_uri": "https://localhost:8080/"
        },
        "outputId": "a22e28a1-03e9-4a89-c75e-b8f185036824"
      },
      "execution_count": null,
      "outputs": [
        {
          "output_type": "stream",
          "name": "stdout",
          "text": [
            "In\n",
            "The\n",
            "High\n",
            "Court\n",
            "Of\n",
            "Kerala\n",
            "At\n",
            "Ernakulam\n",
            "\n",
            "\n",
            "\n",
            "Crl\n",
            "Mc\n",
            "No\n",
            ".\n",
            "1622\n",
            "of\n",
            "2006\n",
            "(\n",
            ")\n",
            "\n",
            "\n",
            "\n",
            "\n",
            "1\n",
            ".\n",
            "T.R.Ajayan\n",
            ",\n",
            "S\n",
            "/\n",
            "O.\n",
            "O.Raman\n",
            ",\n",
            "\n",
            "                      \n",
            "...\n",
            " \n",
            "Petitioner\n",
            "\n",
            "\n",
            "                        \n",
            "Vs\n",
            "\n",
            "\n",
            "\n",
            "\n",
            "\n",
            "1\n",
            ".\n",
            "M.Ravindran\n",
            ",\n",
            "\n",
            "                       \n",
            "...\n",
            "      \n",
            "Respondent\n",
            "\n",
            "\n",
            "\n",
            "2\n",
            ".\n",
            "Mrs.\n",
            "Nirmala\n",
            "Dinesh\n",
            ",\n",
            "W\n",
            "/\n",
            "O.\n",
            "Dinesh\n",
            ",\n",
            "\n",
            "\n",
            "                \n",
            "For\n",
            "Petitioner\n",
            " \n",
            ":\n",
            "Sri\n",
            ".\n",
            "A.Kumar\n",
            "\n",
            "\n",
            "                \n",
            "For\n",
            "Respondent\n",
            " \n",
            ":\n",
            "Smt\n",
            ".\n",
            "M.K.Pushpalatha\n",
            "\n",
            "\n",
            "\n",
            "The\n",
            "Hon'ble\n",
            "Mr.\n",
            "Justice\n",
            "P.R.Raman\n",
            "\n",
            "\n",
            "The\n",
            "Hon'ble\n",
            "Mr.\n",
            "Justice\n",
            "V.K.Mohanan\n",
            "\n",
            "\n",
            " \n",
            "Dated\n",
            ":\n",
            "07/01/2008\n",
            "\n",
            "\n",
            " \n",
            "O\n",
            "R\n",
            "D\n",
            "E\n",
            "R\n",
            "\n",
            "\n"
          ]
        }
      ]
    },
    {
      "cell_type": "code",
      "source": [
        "import re\n",
        "t = re.sub('\\n', \" \", text[0]['text'])\n"
      ],
      "metadata": {
        "id": "bS4JMn91Ha0u"
      },
      "execution_count": null,
      "outputs": []
    },
    {
      "cell_type": "code",
      "source": [
        "\" \".join(t.split())"
      ],
      "metadata": {
        "colab": {
          "base_uri": "https://localhost:8080/",
          "height": 1000
        },
        "id": "3qCiJLSTMH2V",
        "outputId": "a1093462-af79-49e6-cdd0-488944bca4dc"
      },
      "execution_count": null,
      "outputs": [
        {
          "output_type": "execute_result",
          "data": {
            "text/plain": [
              "\"In The High Court Of Kerala At Ernakulam Crl Mc No. 1622 of 2006() 1. T.R.Ajayan, S/O. O.Raman, ... Petitioner Vs 1. M.Ravindran, ... Respondent 2. Mrs. Nirmala Dinesh, W/O. Dinesh, For Petitioner :Sri.A.Kumar For Respondent :Smt.M.K.Pushpalatha The Hon'ble Mr. Justice P.R.Raman The Hon'ble Mr. Justice V.K.Mohanan Dated :07/01/2008 O R D E R\""
            ],
            "application/vnd.google.colaboratory.intrinsic+json": {
              "type": "string"
            }
          },
          "metadata": {},
          "execution_count": 27
        }
      ]
    },
    {
      "cell_type": "code",
      "source": [
        "df['data']"
      ],
      "metadata": {
        "colab": {
          "base_uri": "https://localhost:8080/"
        },
        "id": "T6Rrvz3tMaX-",
        "outputId": "9f13afcf-a9ab-4a5f-fc04-55dc92fc6952"
      },
      "execution_count": null,
      "outputs": [
        {
          "output_type": "execute_result",
          "data": {
            "text/plain": [
              "0       {'text': 'In The High Court Of Kerala At Ernak...\n",
              "1       {'text': 'In The Court Of Shri Lokesh Kumar Sh...\n",
              "2       {'text': 'Before The Madurai Bench Of Madras H...\n",
              "3       {'text': 'Before The Madurai Bench Of Madras H...\n",
              "4       {'text': '1                                   ...\n",
              "                              ...                        \n",
              "1555    {'text': 'In The High Court Of Judicature At M...\n",
              "1556    {'text': 'Petitioner:\n",
              "Khudiram Das\n",
              "\n",
              "\tVs.\n",
              "\n",
              "Resp...\n",
              "1557    {'text': 'In The High Court Of Judicature At P...\n",
              "1558    {'text': 'Petitioner:\n",
              "The Automobile Transport...\n",
              "1559    {'text': 'Petitioner:\n",
              "East India COMMERClAL Co...\n",
              "Name: data, Length: 1560, dtype: object"
            ]
          },
          "metadata": {},
          "execution_count": 28
        }
      ]
    },
    {
      "cell_type": "code",
      "source": [
        "def preprocess(sent):\n",
        "  sent = re.sub('\\n', \" \", sent)\n",
        "  sent = sent.replace(\"...\", \" \")\n",
        "  sent = \" \".join(sent.split())\n",
        "\n",
        "  return sent\n",
        "\n",
        "\n",
        "clean_text = []\n",
        "for i in df['data']:\n",
        "  clean_text.append(preprocess(i['text']))"
      ],
      "metadata": {
        "id": "vCaLs2R3M47k"
      },
      "execution_count": null,
      "outputs": []
    },
    {
      "cell_type": "code",
      "source": [
        "len(clean_text)"
      ],
      "metadata": {
        "colab": {
          "base_uri": "https://localhost:8080/"
        },
        "id": "Yhujswq6NSMC",
        "outputId": "eabdb413-525b-4bdd-ce2c-20dde843d751"
      },
      "execution_count": null,
      "outputs": [
        {
          "output_type": "execute_result",
          "data": {
            "text/plain": [
              "1560"
            ]
          },
          "metadata": {},
          "execution_count": 30
        }
      ]
    },
    {
      "cell_type": "code",
      "source": [
        "df_['clean_text'] = clean_text"
      ],
      "metadata": {
        "id": "BCBRpneqObJY"
      },
      "execution_count": null,
      "outputs": []
    },
    {
      "cell_type": "code",
      "source": [
        "df_.head()"
      ],
      "metadata": {
        "colab": {
          "base_uri": "https://localhost:8080/",
          "height": 965
        },
        "id": "fIQUyQ1tOvn7",
        "outputId": "7603a60c-eff3-49dc-d42e-ce6e769cd1ca"
      },
      "execution_count": null,
      "outputs": [
        {
          "output_type": "execute_result",
          "data": {
            "text/plain": [
              "   Unnamed: 0                                              start  \\\n",
              "0           0              [7, 73, 171, 237, 304, 350, 391, 425]   \n",
              "1           1  [21, 371, 445, 689, 741, 852, 1007, 1035, 1111...   \n",
              "2           2  [11, 98, 192, 208, 219, 237, 253, 265, 281, 29...   \n",
              "3           3  [11, 99, 144, 305, 461, 593, 695, 1335, 1364, ...   \n",
              "4           4  [85, 435, 614, 773, 879, 997, 1276, 1598, 1658...   \n",
              "\n",
              "                                                 end  \\\n",
              "0             [40, 83, 182, 251, 311, 365, 400, 436]   \n",
              "1  [40, 383, 470, 698, 764, 869, 1031, 1047, 1121...   \n",
              "2  [45, 115, 204, 215, 233, 249, 261, 277, 295, 3...   \n",
              "3  [45, 112, 229, 330, 473, 604, 784, 1350, 1375,...   \n",
              "4  [119, 460, 637, 798, 887, 1035, 1296, 1617, 16...   \n",
              "\n",
              "                                                text  \\\n",
              "0  ['High Court Of Kerala At Ernakulam', 'T.R.Aja...   \n",
              "1  ['Lokesh Kumar Sharma', 'Chanakyapuri', 'Jinda...   \n",
              "2  ['Madurai Bench Of Madras High Court', 'V.Rama...   \n",
              "3  ['Madurai Bench Of Madras High Court', 'T.Suda...   \n",
              "4  ['High Court Of Judicature At Bombay', 'Motira...   \n",
              "\n",
              "                                              labels  \\\n",
              "0  [['COURT'], ['PETITIONER'], ['RESPONDENT'], ['...   \n",
              "1  [['JUDGE'], ['PETITIONER'], ['RESPONDENT'], ['...   \n",
              "2  [['COURT'], ['JUDGE'], ['PETITIONER'], ['PETIT...   \n",
              "3  [['COURT'], ['JUDGE'], ['PETITIONER'], ['RESPO...   \n",
              "4  [['COURT'], ['PETITIONER'], ['RESPONDENT'], ['...   \n",
              "\n",
              "                                          clean_text  \n",
              "0  In The High Court Of Kerala At Ernakulam Crl M...  \n",
              "1  In The Court Of Shri Lokesh Kumar Sharma Addit...  \n",
              "2  Before The Madurai Bench Of Madras High Court ...  \n",
              "3  Before The Madurai Bench Of Madras High Court ...  \n",
              "4  1 In The High Court Of Judicature At Bombay, N...  "
            ],
            "text/html": [
              "\n",
              "  <div id=\"df-151f6eba-965a-402c-a19b-40741e77e43c\">\n",
              "    <div class=\"colab-df-container\">\n",
              "      <div>\n",
              "<style scoped>\n",
              "    .dataframe tbody tr th:only-of-type {\n",
              "        vertical-align: middle;\n",
              "    }\n",
              "\n",
              "    .dataframe tbody tr th {\n",
              "        vertical-align: top;\n",
              "    }\n",
              "\n",
              "    .dataframe thead th {\n",
              "        text-align: right;\n",
              "    }\n",
              "</style>\n",
              "<table border=\"1\" class=\"dataframe\">\n",
              "  <thead>\n",
              "    <tr style=\"text-align: right;\">\n",
              "      <th></th>\n",
              "      <th>Unnamed: 0</th>\n",
              "      <th>start</th>\n",
              "      <th>end</th>\n",
              "      <th>text</th>\n",
              "      <th>labels</th>\n",
              "      <th>clean_text</th>\n",
              "    </tr>\n",
              "  </thead>\n",
              "  <tbody>\n",
              "    <tr>\n",
              "      <th>0</th>\n",
              "      <td>0</td>\n",
              "      <td>[7, 73, 171, 237, 304, 350, 391, 425]</td>\n",
              "      <td>[40, 83, 182, 251, 311, 365, 400, 436]</td>\n",
              "      <td>['High Court Of Kerala At Ernakulam', 'T.R.Aja...</td>\n",
              "      <td>[['COURT'], ['PETITIONER'], ['RESPONDENT'], ['...</td>\n",
              "      <td>In The High Court Of Kerala At Ernakulam Crl M...</td>\n",
              "    </tr>\n",
              "    <tr>\n",
              "      <th>1</th>\n",
              "      <td>1</td>\n",
              "      <td>[21, 371, 445, 689, 741, 852, 1007, 1035, 1111...</td>\n",
              "      <td>[40, 383, 470, 698, 764, 869, 1031, 1047, 1121...</td>\n",
              "      <td>['Lokesh Kumar Sharma', 'Chanakyapuri', 'Jinda...</td>\n",
              "      <td>[['JUDGE'], ['PETITIONER'], ['RESPONDENT'], ['...</td>\n",
              "      <td>In The Court Of Shri Lokesh Kumar Sharma Addit...</td>\n",
              "    </tr>\n",
              "    <tr>\n",
              "      <th>2</th>\n",
              "      <td>2</td>\n",
              "      <td>[11, 98, 192, 208, 219, 237, 253, 265, 281, 29...</td>\n",
              "      <td>[45, 115, 204, 215, 233, 249, 261, 277, 295, 3...</td>\n",
              "      <td>['Madurai Bench Of Madras High Court', 'V.Rama...</td>\n",
              "      <td>[['COURT'], ['JUDGE'], ['PETITIONER'], ['PETIT...</td>\n",
              "      <td>Before The Madurai Bench Of Madras High Court ...</td>\n",
              "    </tr>\n",
              "    <tr>\n",
              "      <th>3</th>\n",
              "      <td>3</td>\n",
              "      <td>[11, 99, 144, 305, 461, 593, 695, 1335, 1364, ...</td>\n",
              "      <td>[45, 112, 229, 330, 473, 604, 784, 1350, 1375,...</td>\n",
              "      <td>['Madurai Bench Of Madras High Court', 'T.Suda...</td>\n",
              "      <td>[['COURT'], ['JUDGE'], ['PETITIONER'], ['RESPO...</td>\n",
              "      <td>Before The Madurai Bench Of Madras High Court ...</td>\n",
              "    </tr>\n",
              "    <tr>\n",
              "      <th>4</th>\n",
              "      <td>4</td>\n",
              "      <td>[85, 435, 614, 773, 879, 997, 1276, 1598, 1658...</td>\n",
              "      <td>[119, 460, 637, 798, 887, 1035, 1296, 1617, 16...</td>\n",
              "      <td>['High Court Of Judicature At Bombay', 'Motira...</td>\n",
              "      <td>[['COURT'], ['PETITIONER'], ['RESPONDENT'], ['...</td>\n",
              "      <td>1 In The High Court Of Judicature At Bombay, N...</td>\n",
              "    </tr>\n",
              "  </tbody>\n",
              "</table>\n",
              "</div>\n",
              "      <button class=\"colab-df-convert\" onclick=\"convertToInteractive('df-151f6eba-965a-402c-a19b-40741e77e43c')\"\n",
              "              title=\"Convert this dataframe to an interactive table.\"\n",
              "              style=\"display:none;\">\n",
              "        \n",
              "  <svg xmlns=\"http://www.w3.org/2000/svg\" height=\"24px\"viewBox=\"0 0 24 24\"\n",
              "       width=\"24px\">\n",
              "    <path d=\"M0 0h24v24H0V0z\" fill=\"none\"/>\n",
              "    <path d=\"M18.56 5.44l.94 2.06.94-2.06 2.06-.94-2.06-.94-.94-2.06-.94 2.06-2.06.94zm-11 1L8.5 8.5l.94-2.06 2.06-.94-2.06-.94L8.5 2.5l-.94 2.06-2.06.94zm10 10l.94 2.06.94-2.06 2.06-.94-2.06-.94-.94-2.06-.94 2.06-2.06.94z\"/><path d=\"M17.41 7.96l-1.37-1.37c-.4-.4-.92-.59-1.43-.59-.52 0-1.04.2-1.43.59L10.3 9.45l-7.72 7.72c-.78.78-.78 2.05 0 2.83L4 21.41c.39.39.9.59 1.41.59.51 0 1.02-.2 1.41-.59l7.78-7.78 2.81-2.81c.8-.78.8-2.07 0-2.86zM5.41 20L4 18.59l7.72-7.72 1.47 1.35L5.41 20z\"/>\n",
              "  </svg>\n",
              "      </button>\n",
              "      \n",
              "  <style>\n",
              "    .colab-df-container {\n",
              "      display:flex;\n",
              "      flex-wrap:wrap;\n",
              "      gap: 12px;\n",
              "    }\n",
              "\n",
              "    .colab-df-convert {\n",
              "      background-color: #E8F0FE;\n",
              "      border: none;\n",
              "      border-radius: 50%;\n",
              "      cursor: pointer;\n",
              "      display: none;\n",
              "      fill: #1967D2;\n",
              "      height: 32px;\n",
              "      padding: 0 0 0 0;\n",
              "      width: 32px;\n",
              "    }\n",
              "\n",
              "    .colab-df-convert:hover {\n",
              "      background-color: #E2EBFA;\n",
              "      box-shadow: 0px 1px 2px rgba(60, 64, 67, 0.3), 0px 1px 3px 1px rgba(60, 64, 67, 0.15);\n",
              "      fill: #174EA6;\n",
              "    }\n",
              "\n",
              "    [theme=dark] .colab-df-convert {\n",
              "      background-color: #3B4455;\n",
              "      fill: #D2E3FC;\n",
              "    }\n",
              "\n",
              "    [theme=dark] .colab-df-convert:hover {\n",
              "      background-color: #434B5C;\n",
              "      box-shadow: 0px 1px 3px 1px rgba(0, 0, 0, 0.15);\n",
              "      filter: drop-shadow(0px 1px 2px rgba(0, 0, 0, 0.3));\n",
              "      fill: #FFFFFF;\n",
              "    }\n",
              "  </style>\n",
              "\n",
              "      <script>\n",
              "        const buttonEl =\n",
              "          document.querySelector('#df-151f6eba-965a-402c-a19b-40741e77e43c button.colab-df-convert');\n",
              "        buttonEl.style.display =\n",
              "          google.colab.kernel.accessAllowed ? 'block' : 'none';\n",
              "\n",
              "        async function convertToInteractive(key) {\n",
              "          const element = document.querySelector('#df-151f6eba-965a-402c-a19b-40741e77e43c');\n",
              "          const dataTable =\n",
              "            await google.colab.kernel.invokeFunction('convertToInteractive',\n",
              "                                                     [key], {});\n",
              "          if (!dataTable) return;\n",
              "\n",
              "          const docLinkHtml = 'Like what you see? Visit the ' +\n",
              "            '<a target=\"_blank\" href=https://colab.research.google.com/notebooks/data_table.ipynb>data table notebook</a>'\n",
              "            + ' to learn more about interactive tables.';\n",
              "          element.innerHTML = '';\n",
              "          dataTable['output_type'] = 'display_data';\n",
              "          await google.colab.output.renderOutput(dataTable, element);\n",
              "          const docLink = document.createElement('div');\n",
              "          docLink.innerHTML = docLinkHtml;\n",
              "          element.appendChild(docLink);\n",
              "        }\n",
              "      </script>\n",
              "    </div>\n",
              "  </div>\n",
              "  "
            ]
          },
          "metadata": {},
          "execution_count": 32
        }
      ]
    },
    {
      "cell_type": "code",
      "source": [
        "s = df_.iloc[0]['clean_text']\n",
        "\n",
        "for i in range(7,40):\n",
        "  print(s[i])"
      ],
      "metadata": {
        "id": "JSP1hwBBPRQP",
        "colab": {
          "base_uri": "https://localhost:8080/"
        },
        "outputId": "b32732a0-eeb3-40c3-be77-a3ac033a66da"
      },
      "execution_count": null,
      "outputs": [
        {
          "output_type": "stream",
          "name": "stdout",
          "text": [
            "H\n",
            "i\n",
            "g\n",
            "h\n",
            " \n",
            "C\n",
            "o\n",
            "u\n",
            "r\n",
            "t\n",
            " \n",
            "O\n",
            "f\n",
            " \n",
            "K\n",
            "e\n",
            "r\n",
            "a\n",
            "l\n",
            "a\n",
            " \n",
            "A\n",
            "t\n",
            " \n",
            "E\n",
            "r\n",
            "n\n",
            "a\n",
            "k\n",
            "u\n",
            "l\n",
            "a\n",
            "m\n"
          ]
        }
      ]
    },
    {
      "cell_type": "code",
      "source": [
        "df_.iloc[1]['clean_text']\n",
        "\n",
        "import spacy\n",
        "nlp = spacy.load('en_core_web_sm')\n",
        "\n",
        "doc = nlp(df_.iloc[0]['clean_text'])\n",
        "\n",
        "print(doc[0])"
      ],
      "metadata": {
        "colab": {
          "base_uri": "https://localhost:8080/"
        },
        "id": "pl4LFtrDOxOI",
        "outputId": "ad855779-257c-46ea-a87e-a990c923307a"
      },
      "execution_count": null,
      "outputs": [
        {
          "output_type": "stream",
          "name": "stdout",
          "text": [
            "In\n"
          ]
        }
      ]
    },
    {
      "cell_type": "code",
      "source": [
        "span = doc.char_span(73,100,label = \"COURT\")\n",
        "span"
      ],
      "metadata": {
        "id": "yBJK_HzEO59Q"
      },
      "execution_count": null,
      "outputs": []
    },
    {
      "cell_type": "code",
      "source": [],
      "metadata": {
        "id": "bveV-RddRbKl"
      },
      "execution_count": null,
      "outputs": []
    },
    {
      "cell_type": "markdown",
      "source": [
        "## New solution"
      ],
      "metadata": {
        "id": "K-z6fzlkn0uo"
      }
    },
    {
      "cell_type": "code",
      "source": [
        "def sentence_cleaner(sentence):\n",
        "    '''\n",
        "    replacing the unwanted charachters\n",
        "    '''\n",
        "    reg = re.compile(\"[\\w]*[\\w.]*\\w[\\w']*\\w[\\w\\/]*|[\\w\\/O]\")\n",
        "    return \" \".join(reg.findall(sentence.replace('\\n', ' '))).replace(\" / \", '/')"
      ],
      "metadata": {
        "id": "P9hhYVxsYOdK"
      },
      "execution_count": null,
      "outputs": []
    },
    {
      "cell_type": "code",
      "source": [
        "def sentence_cleaner_v1(sentence):\n",
        "    '''\n",
        "    replacing the unwanted charachters\n",
        "    '''\n",
        "    sent_1 = \" \".join(sent_1.replace(\"\\n\" , \" \").replace(\"...\" , \" \").replace(\"-\", \"\").split())\n",
        "    doc = nlp(sent_1)\n",
        "    doc_list = []\n",
        "    for i in doc:\n",
        "      doc_list.append(str(i))\n",
        "    return doc_list"
      ],
      "metadata": {
        "id": "P90QqgciraJp"
      },
      "execution_count": null,
      "outputs": []
    },
    {
      "cell_type": "code",
      "source": [
        "def sentence_tagging(sent, annotation):\n",
        "\n",
        "  #creating dictonary to store word to entity\n",
        "  word2ent = {}\n",
        "  sent = sent['text']\n",
        "  for ann in (annotation[0]['result']):\n",
        "    temp_sent = sentence_cleaner_v1(sent[ ann['value']['start']: ann['value']['end']])\n",
        "    \n",
        "    #Customized IOBE tagging\n",
        "\n",
        "    temp_len = len(temp_sent)\n",
        "    #print(temp_sent,temp_len)\n",
        "    if temp_len > 1 :\n",
        "        for i in range(temp_len):\n",
        "            #print(i, temp_len - 1)\n",
        "            if i == 0 :\n",
        "              word2ent[temp_sent[i]] =  \"B-\" + ann['value']['labels'][0]\n",
        "            \n",
        "            elif i == (temp_len - 1):\n",
        "              word2ent[temp_sent[i]] =  \"E-\" + ann['value']['labels'][0]\n",
        "\n",
        "            else :\n",
        "              word2ent[temp_sent[i]] =  \"I-\" + ann['value']['labels'][0]\n",
        "\n",
        "    else :\n",
        "        word2ent[temp_sent[0]] = \"B-\" + ann['value']['labels'][0]\n",
        "\n",
        "  #adding 'O' tag\n",
        "  sent = sentence_cleaner(sent)\n",
        "  sent = sent.split()\n",
        "  tag_list = []\n",
        "  for word in sent:\n",
        "      #print(word)\n",
        "      if word not in word2ent.keys() and word + ',' not in word2ent.keys() :\n",
        "        \n",
        "        word2ent[word] = \"O\"\n",
        "        #print(word , word2ent[word])\n",
        "        tag_list.append(word2ent[word])\n",
        "      \n",
        "      else :\n",
        "          tag_list.append(word2ent[word])\n",
        "  \n",
        "  \n",
        "  print(word2ent )\n",
        "  return tag_list\n",
        "      "
      ],
      "metadata": {
        "id": "7_GIC3N8n2sz"
      },
      "execution_count": null,
      "outputs": []
    },
    {
      "cell_type": "code",
      "source": [
        "def sentence_tagging_v1(sent, annotation):\n",
        "\n",
        "  #creating dictonary to store word to entity\n",
        "  word2ent = {}\n",
        "  sent = sent['text']\n",
        "  for ann in (annotation[0]['result']):\n",
        "    temp_sent = (sent[ ann['value']['start']: ann['value']['end']]).split()\n",
        "    \n",
        "    #Customized IOBE tagging\n",
        "\n",
        "    temp_len = len(temp_sent)\n",
        "    #print(temp_sent,word2ent)\n",
        "    for i in range(temp_len):\n",
        "        #print(i, temp_len - 1)\n",
        "        #assign empty list if word not present in dictonary\n",
        "        if temp_sent[i] not in word2ent:\n",
        "            word2ent[temp_sent[i]] = []\n",
        "\n",
        "        if i == 0 :\n",
        "          word2ent[temp_sent[i]].append(\"B-\" + ann['value']['labels'][0])\n",
        "        \n",
        "        elif i == (temp_len - 1):\n",
        "          word2ent[temp_sent[i]].append(\"E-\" + ann['value']['labels'][0])\n",
        "\n",
        "        else :\n",
        "          word2ent[temp_sent[i]].append(\"I-\" + ann['value']['labels'][0])\n",
        "\n",
        "  #adding 'O' tag\n",
        "  sent = sentence_cleaner(sent)\n",
        "  sent = sent.split()\n",
        "  tag_list = []\n",
        "  for word in sent:\n",
        "      #print(word)\n",
        "      if word not in word2ent.keys():\n",
        "        \n",
        "        word2ent[word] = \"O\"\n",
        "        #print(word , word2ent[word])\n",
        "      tag_list.append(word2ent[word])\n",
        "      \n",
        "  \n",
        "  \n",
        "  #print(word2ent )\n",
        "  return tag_list\n",
        "      "
      ],
      "metadata": {
        "id": "PfWqpbWqgPcv"
      },
      "execution_count": null,
      "outputs": []
    },
    {
      "cell_type": "code",
      "source": [
        "IOBE_tagging = []\n",
        "i = 0\n",
        "for sent, anno in zip( df['data'].to_list(), df['annotations'].to_list()):\n",
        "    print(i)\n",
        "    i +=1 \n",
        "    IOBE_tagging.append(sentence_tagging_v1(sent,anno))\n",
        "    \n",
        "  "
      ],
      "metadata": {
        "id": "EhIDrITvn45H"
      },
      "execution_count": null,
      "outputs": []
    },
    {
      "cell_type": "code",
      "source": [
        "IOBE_tagging[0]"
      ],
      "metadata": {
        "id": "z0YqSIUIkBAo"
      },
      "execution_count": null,
      "outputs": []
    },
    {
      "cell_type": "code",
      "source": [
        "for i in df['annotations'].to_list()[642][0]['result']:\n",
        "  print(sent_1[i['value']['start'] : i['value']['end']] ,  i['value']['start']  , i['value']['end'])"
      ],
      "metadata": {
        "colab": {
          "base_uri": "https://localhost:8080/"
        },
        "id": "i_WTWZ6NjmgL",
        "outputId": "89c9f13a-9ae0-468b-b842-d30c5c06edfc"
      },
      "execution_count": null,
      "outputs": [
        {
          "output_type": "stream",
          "name": "stdout",
          "text": [
            "Raj Kumar 21 30\n",
            "Addl. District \n",
            "           Judge­09: Tis Hazari Courts : Delhi 32 94\n",
            "Sudhir Kumar Sharma 177 196\n",
            "Subhash Chander Sharma 206 228\n",
            "Suman Kumar Sharma 239 257\n",
            "Satish Chander Sharma 268 289\n",
            "Sudesh Sharma 339 352\n",
            "Sushila Sharma 407 421\n",
            "Suresh C. Sharma 749 765\n",
            "Sushil Pal Sharma 963 980\n",
            "Land & Development Officer, \n",
            "       Nirman Bhawan, New Delhi 1090 1150\n"
          ]
        }
      ]
    },
    {
      "cell_type": "code",
      "source": [
        "sent_1 = df['data'].to_list()[0]['text']\n",
        "sent_1"
      ],
      "metadata": {
        "id": "guLMOqWlrTr0",
        "colab": {
          "base_uri": "https://localhost:8080/",
          "height": 88
        },
        "outputId": "159efeda-f9bc-48f7-ae6d-66d50bd39f4b"
      },
      "execution_count": null,
      "outputs": [
        {
          "output_type": "execute_result",
          "data": {
            "text/plain": [
              "\"In The High Court Of Kerala At Ernakulam\\n\\nCrl Mc No. 1622 of 2006()\\n\\n\\n1. T.R.Ajayan, S/O. O.Raman,\\n                      ...  Petitioner\\n\\n                        Vs\\n\\n\\n\\n1. M.Ravindran,\\n                       ...       Respondent\\n\\n2. Mrs. Nirmala Dinesh, W/O. Dinesh,\\n\\n                For Petitioner  :Sri.A.Kumar\\n\\n                For Respondent  :Smt.M.K.Pushpalatha\\n\\nThe Hon'ble Mr. Justice P.R.Raman\\nThe Hon'ble Mr. Justice V.K.Mohanan\\n\\n Dated :07/01/2008\\n\\n O R D E R\\n\""
            ],
            "application/vnd.google.colaboratory.intrinsic+json": {
              "type": "string"
            }
          },
          "metadata": {},
          "execution_count": 144
        }
      ]
    },
    {
      "cell_type": "code",
      "source": [
        "# [\\w]*[\\w.]*\\w[\\w']*\\w[\\w\\/]*|[\\w\\/O]\n",
        "\n",
        "reg = re.compile(\"[\\w]*[\\w.]*\\w[\\w']*\\w[\\w\\/]*|[\\w\\/O]\")\n",
        "\" \".join(reg.findall(sent_1.replace('\\n', ' '))).replace(\" / \", '/')"
      ],
      "metadata": {
        "id": "KP6_PKcneqL4"
      },
      "execution_count": null,
      "outputs": []
    },
    {
      "cell_type": "code",
      "source": [
        "\" \".join(sent_1.replace(\" \",\" \").split())"
      ],
      "metadata": {
        "id": "38ZYEMc215jw"
      },
      "execution_count": null,
      "outputs": []
    },
    {
      "cell_type": "code",
      "source": [
        "word2count = {}\n",
        "\n",
        "for sent in df['data'].to_list():\n",
        "    for word in sent['text'].split():\n",
        "        if word not in word2count:\n",
        "          word2count[word] = 0\n",
        "        else:\n",
        "          word2count[word] += 1"
      ],
      "metadata": {
        "id": "4VB1o_W6TdLM"
      },
      "execution_count": null,
      "outputs": []
    },
    {
      "cell_type": "code",
      "source": [
        "for key in word2count.keys():\n",
        "  if re.search(r'\\bM+\\b', key):\n",
        "    print(key)"
      ],
      "metadata": {
        "id": "uPybFmYRatA1"
      },
      "execution_count": null,
      "outputs": []
    },
    {
      "cell_type": "code",
      "source": [],
      "metadata": {
        "id": "Xjzi3ADFbVOS"
      },
      "execution_count": null,
      "outputs": []
    },
    {
      "cell_type": "markdown",
      "source": [
        "## Using Tokenizer"
      ],
      "metadata": {
        "id": "lcpiyQSpnqnl"
      }
    },
    {
      "cell_type": "code",
      "source": [
        "from spacy.tokenizer import Tokenizer\n",
        "from spacy.lang.en import English\n",
        "nlp = English()"
      ],
      "metadata": {
        "id": "JEdpvP8Kns5V"
      },
      "execution_count": null,
      "outputs": []
    },
    {
      "cell_type": "code",
      "source": [
        "sent_1 = \" \".join(sent_1.replace(\"\\n\" , \" \").replace(\"...\" , \" \").replace(\"-\", \"\").split())\n",
        "doc = nlp(sent_1)\n",
        "doc_list = []\n",
        "for i in doc:\n",
        "  doc_list.append(str(i))\n",
        "doc_list"
      ],
      "metadata": {
        "colab": {
          "base_uri": "https://localhost:8080/"
        },
        "id": "jtRePCv3n7ig",
        "outputId": "c7726ae2-6b75-4b72-8b29-3efb7a994912"
      },
      "execution_count": null,
      "outputs": [
        {
          "output_type": "execute_result",
          "data": {
            "text/plain": [
              "['In',\n",
              " 'The',\n",
              " 'High',\n",
              " 'Court',\n",
              " 'Of',\n",
              " 'Kerala',\n",
              " 'At',\n",
              " 'Ernakulam',\n",
              " 'Crl',\n",
              " 'Mc',\n",
              " 'No',\n",
              " '.',\n",
              " '1622',\n",
              " 'of',\n",
              " '2006',\n",
              " '(',\n",
              " ')',\n",
              " '1',\n",
              " '.',\n",
              " 'T.R.Ajayan',\n",
              " ',',\n",
              " 'S',\n",
              " '/',\n",
              " 'O.',\n",
              " 'O.Raman',\n",
              " ',',\n",
              " 'Petitioner',\n",
              " 'Vs',\n",
              " '1',\n",
              " '.',\n",
              " 'M.Ravindran',\n",
              " ',',\n",
              " 'Respondent',\n",
              " '2',\n",
              " '.',\n",
              " 'Mrs.',\n",
              " 'Nirmala',\n",
              " 'Dinesh',\n",
              " ',',\n",
              " 'W',\n",
              " '/',\n",
              " 'O.',\n",
              " 'Dinesh',\n",
              " ',',\n",
              " 'For',\n",
              " 'Petitioner',\n",
              " ':',\n",
              " 'Sri',\n",
              " '.',\n",
              " 'A.Kumar',\n",
              " 'For',\n",
              " 'Respondent',\n",
              " ':',\n",
              " 'Smt',\n",
              " '.',\n",
              " 'M.K.Pushpalatha',\n",
              " 'The',\n",
              " \"Hon'ble\",\n",
              " 'Mr.',\n",
              " 'Justice',\n",
              " 'P.R.Raman',\n",
              " 'The',\n",
              " \"Hon'ble\",\n",
              " 'Mr.',\n",
              " 'Justice',\n",
              " 'V.K.Mohanan',\n",
              " 'Dated',\n",
              " ':',\n",
              " '07/01/2008',\n",
              " 'O',\n",
              " 'R',\n",
              " 'D',\n",
              " 'E',\n",
              " 'R']"
            ]
          },
          "metadata": {},
          "execution_count": 162
        }
      ]
    },
    {
      "cell_type": "code",
      "source": [],
      "metadata": {
        "id": "Mysr1mTPoBNr"
      },
      "execution_count": null,
      "outputs": []
    }
  ]
}