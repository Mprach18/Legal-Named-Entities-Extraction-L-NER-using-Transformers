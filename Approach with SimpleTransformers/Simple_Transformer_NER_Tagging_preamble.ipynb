{
  "nbformat": 4,
  "nbformat_minor": 0,
  "metadata": {
    "colab": {
      "provenance": []
    },
    "kernelspec": {
      "name": "python3",
      "display_name": "Python 3"
    },
    "language_info": {
      "name": "python"
    },
    "accelerator": "GPU",
    "gpuClass": "standard"
  },
  "cells": [
    {
      "cell_type": "code",
      "execution_count": null,
      "metadata": {
        "id": "ncpLQCqLlcE-"
      },
      "outputs": [],
      "source": [
        "from google.colab import drive\n",
        "drive.mount('/content/drive')"
      ]
    },
    {
      "cell_type": "code",
      "source": [
        "import json\n",
        "\n",
        "f = open('/content/tag2idx')\n",
        "tag2idx = json.load(f)\n",
        "# Closing file\n",
        "f.close()\n",
        "\n",
        "all_tags_list = list(tag2idx.keys())"
      ],
      "metadata": {
        "id": "tlhWFSQem6FU"
      },
      "execution_count": null,
      "outputs": []
    },
    {
      "cell_type": "code",
      "source": [
        "import pandas as pd\n",
        "\n",
        "full_train_df = pd.read_csv('/content/Final_DataFrame_Train_Preamble')\n",
        "\n",
        "train_sents = full_train_df['clean_sent'].to_list()\n",
        "train_labels = full_train_df['tags'].to_list()\n",
        "\n",
        "train_sents = [train_sents[i].replace(\"'\", \"\").strip(\n",
        "    '][').split(', ') for i in range(len(train_sents))]\n",
        "train_labels = [train_labels[i].replace(\"'\", \"\").strip(\n",
        "    '][').split(', ') for i in range(len(train_labels))]\n",
        "\n",
        "\n",
        "print(len(train_sents[0]))\n",
        "print(len(train_labels[0]))\n",
        "\n",
        "print(len(train_sents))\n",
        "print(len(train_labels))\n",
        "\n",
        "print(train_sents[0])\n",
        "print(train_labels[0])"
      ],
      "metadata": {
        "id": "Z_l8z2h4NVUk"
      },
      "execution_count": null,
      "outputs": []
    },
    {
      "cell_type": "code",
      "source": [
        "new_df_list = []\n",
        "\n",
        "for i in range(len(train_sents)):\n",
        "  for word, tag in zip(train_sents[i], train_labels[i]):\n",
        "    row = [str(i), word, tag]\n",
        "    new_df_list.append(row)\n",
        "\n",
        "print(new_df_list)"
      ],
      "metadata": {
        "id": "WFcmipZSsqmd"
      },
      "execution_count": null,
      "outputs": []
    },
    {
      "cell_type": "code",
      "source": [
        "import pandas as pd\n",
        "\n",
        "train_df = pd.DataFrame(new_df_list, columns=['sentence_id', 'words', 'labels'])\n",
        "# train_df.rename(columns={'tags': 'labels'}, inplace=True)\n",
        "train_df.head(-1)\n",
        "\n",
        "print(train_df.isnull().values.any())"
      ],
      "metadata": {
        "id": "lrWSqGDql4qt"
      },
      "execution_count": null,
      "outputs": []
    },
    {
      "cell_type": "code",
      "source": [
        "full_test_df = pd.read_csv('/content/Final_DataFrame_Dev_Preamble')\n",
        "\n",
        "test_sents = full_test_df['clean_sent'].to_list()\n",
        "test_labels = full_test_df['tags'].to_list()\n",
        "\n",
        "test_sents = [test_sents[i].replace(\"'\", \"\").strip(\n",
        "    '][').split(', ') for i in range(len(test_sents))]\n",
        "test_labels = [test_labels[i].replace(\"'\", \"\").strip(\n",
        "    '][').split(', ') for i in range(len(test_labels))]\n",
        "\n",
        "\n",
        "print(len(test_sents[0]))\n",
        "print(len(test_labels[0]))\n",
        "\n",
        "print(len(test_sents))\n",
        "print(len(test_labels))\n",
        "\n",
        "print(test_sents[0])\n",
        "print(test_labels[0])"
      ],
      "metadata": {
        "id": "RPfYXQ8qr3VF"
      },
      "execution_count": null,
      "outputs": []
    },
    {
      "cell_type": "code",
      "source": [
        "new_df1_list = []\n",
        "\n",
        "for i in range(len(test_sents)):\n",
        "  for word, tag in zip(test_sents[i], test_labels[i]):\n",
        "    row = [str(i), word, tag]\n",
        "    new_df1_list.append(row)\n",
        "\n",
        "print(new_df1_list)"
      ],
      "metadata": {
        "id": "_kHQlp0zprBb"
      },
      "execution_count": null,
      "outputs": []
    },
    {
      "cell_type": "code",
      "source": [
        "# print(len(train_df))\n",
        "# train_df_drop = train_df.dropna()\n",
        "# print(len(train_df_drop))"
      ],
      "metadata": {
        "id": "qeULBl35qr9e"
      },
      "execution_count": null,
      "outputs": []
    },
    {
      "cell_type": "code",
      "source": [
        "import pandas as pd\n",
        "\n",
        "test_df = pd.DataFrame(new_df1_list, columns=['sentence_id', 'words', 'labels'])\n",
        "# train_df.rename(columns={'tags': 'labels'}, inplace=True)\n",
        "test_df.head(-1)"
      ],
      "metadata": {
        "id": "YAP5TitYmcOZ"
      },
      "execution_count": null,
      "outputs": []
    },
    {
      "cell_type": "code",
      "source": [
        "# print(len(test_df))\n",
        "# test_df = test_df.dropna()\n",
        "# print(len(test_df))"
      ],
      "metadata": {
        "id": "a2KQSy3lyV4K"
      },
      "execution_count": null,
      "outputs": []
    },
    {
      "cell_type": "code",
      "source": [
        "!pip install simpletransformers"
      ],
      "metadata": {
        "id": "2BIuAekzo1bU"
      },
      "execution_count": null,
      "outputs": []
    },
    {
      "cell_type": "code",
      "source": [
        "device = 'cuda'\n",
        "import torch, gc\n",
        "import os\n",
        "gc.collect()\n",
        "torch.cuda.empty_cache()"
      ],
      "metadata": {
        "id": "ZkZFmiXXuBBG"
      },
      "execution_count": null,
      "outputs": []
    },
    {
      "cell_type": "code",
      "source": [
        "from simpletransformers.ner import NERModel, NERArgs\n",
        "import sklearn\n",
        "\n",
        "\n",
        "model_args = NERArgs()\n",
        "model_args.labels_list = all_tags_list\n",
        "model_args.train_batch_size = 10\n",
        "model_args.num_train_epochs = 10\n",
        "model_args.classification_report = True\n",
        "\n",
        "model = NERModel(\n",
        "  \"bert\",\n",
        "  \"bert-base-cased\",\n",
        "  args=model_args,\n",
        "  use_cuda=True,\n",
        ")"
      ],
      "metadata": {
        "id": "jvyw3RPcmj2T"
      },
      "execution_count": null,
      "outputs": []
    },
    {
      "cell_type": "code",
      "source": [
        "all_tags_list"
      ],
      "metadata": {
        "id": "LTnr3kWZ84lq"
      },
      "execution_count": null,
      "outputs": []
    },
    {
      "cell_type": "code",
      "source": [
        "model.train_model(train_df)"
      ],
      "metadata": {
        "id": "fAVWBoKToa1J"
      },
      "execution_count": null,
      "outputs": []
    },
    {
      "cell_type": "code",
      "source": [
        "result, model_outputs, preds_list = model.eval_model(test_df)\n"
      ],
      "metadata": {
        "id": "tmb1PFvoyQzO"
      },
      "execution_count": null,
      "outputs": []
    },
    {
      "cell_type": "code",
      "source": [
        "print(preds_list)"
      ],
      "metadata": {
        "id": "9wneS79S5TGx"
      },
      "execution_count": null,
      "outputs": []
    },
    {
      "cell_type": "code",
      "source": [
        "len(preds_list[0])"
      ],
      "metadata": {
        "id": "V2D2432yDjNd"
      },
      "execution_count": null,
      "outputs": []
    },
    {
      "cell_type": "code",
      "source": [
        "print(result)"
      ],
      "metadata": {
        "id": "muIDmYX1ynQF"
      },
      "execution_count": null,
      "outputs": []
    },
    {
      "cell_type": "code",
      "source": [
        "predictions, raw_outputs = model.predict([\"Before The Madurai Bench Of Madras High Court\\n\\nDated: 23/12/2011\\n\\nCoram\\nThe Honourable Mr.Justice V.Ramasubramanian\\n\\nCivil Revision Petition (Npd)(Md) No.1123 of 2006\\nAnd\\nM.P.No.2 of 2006\\n\\n1. Ayisha Beevi\\n2. Beevija\\n3. Hadijath Beevi\\n4. Yunusa Begam\\n5. Syed Ali\\n6. Sumaya Begam\\n7. Mohamed Yoosuf\\n8. Mohamed Ismail\\n9. Razira Beevi\\n10.Shabi Mohamed\\n11.Zakir Mugain\\n12.Ferosh Khan\\n13.Augustin\\n14.Dr.T.C.Joseph\\t\\t\\t..... Petitioners\\n\\nVs.\\n\\n1. Sheik Mydeen\\n2. A.P.Nelson\\n3. Chandrakala Ruben\\t\\t\\t..... Respondents\\n-----\\n\\tPetition under Article 227 of  the Constitution of India against the fair\\nand decretal order dated 18.10.2006 made in E.P.No.201 of 2000 in O.S.No.420 of\\n1976 passed by the Principal District Munsif, Padmanabhapuram.\\n\\n!For Petitioner \\t    \\t ...   Mr.K.N.Thampi\\n^For Respondent-1 \\t  \\t ...   Mr.Prabhu Rajadurai\\nFor Respondents 2&3 \\t\\t ...   Mr.A.Arumugham\\n-----\\n:Order\"])"
      ],
      "metadata": {
        "id": "0lueOzR6yyHP"
      },
      "execution_count": null,
      "outputs": []
    },
    {
      "cell_type": "code",
      "source": [
        "print(predictions[0])"
      ],
      "metadata": {
        "id": "0sWTm-zDy_kf"
      },
      "execution_count": null,
      "outputs": []
    },
    {
      "cell_type": "code",
      "source": [
        "print(preds_list[0])"
      ],
      "metadata": {
        "id": "VUoFnGllMBbN"
      },
      "execution_count": null,
      "outputs": []
    },
    {
      "cell_type": "code",
      "source": [
        "test_df['labels']"
      ],
      "metadata": {
        "id": "_2LwCBifL0qe"
      },
      "execution_count": null,
      "outputs": []
    },
    {
      "cell_type": "code",
      "source": [
        "valid_examples = []\n",
        "count = 0\n",
        "for i,j in list(zip(train_labels, preds_list)):\n",
        "  if len(i) == len(j):\n",
        "    valid_examples.append(count)\n",
        "  count += 1"
      ],
      "metadata": {
        "id": "jB3htuXRBosg"
      },
      "execution_count": null,
      "outputs": []
    },
    {
      "cell_type": "code",
      "source": [
        "valid_examples"
      ],
      "metadata": {
        "id": "0LxUaArqQMwv"
      },
      "execution_count": null,
      "outputs": []
    },
    {
      "cell_type": "code",
      "source": [
        "from sklearn.metrics import classification_report\n",
        "\n",
        "\n",
        "print(classification_report(train_labels[0], preds_list[0]))"
      ],
      "metadata": {
        "id": "Qbsdz5zBLX7Y"
      },
      "execution_count": null,
      "outputs": []
    },
    {
      "cell_type": "markdown",
      "source": [
        "### Clubbing Labels\n"
      ],
      "metadata": {
        "id": "p-yvtyVSUYo9"
      }
    },
    {
      "cell_type": "code",
      "source": [
        "def club_IOB_labels(labels):\n",
        "  club_labels = []\n",
        "  for label_list in labels:\n",
        "    club_label_list = []\n",
        "    for label in label_list:\n",
        "      if label != 'O':\n",
        "        strip_label = label.split('-')[1]\n",
        "        club_label_list.append(strip_label)\n",
        "      else:\n",
        "        club_label_list.append(label)\n",
        "    club_labels.append(club_label_list)\n",
        "  return club_labels"
      ],
      "metadata": {
        "id": "QmFpxDqYUWm-"
      },
      "execution_count": null,
      "outputs": []
    },
    {
      "cell_type": "code",
      "source": [
        "clubbed_true_labels = club_IOB_labels(train_labels)\n",
        "\n",
        "clubbed_pred_labels = club_IOB_labels(preds_list)"
      ],
      "metadata": {
        "id": "a3183H6NWeLJ"
      },
      "execution_count": null,
      "outputs": []
    },
    {
      "cell_type": "code",
      "source": [
        "print(classification_report(clubbed_true_labels[3], clubbed_pred_labels[3]))"
      ],
      "metadata": {
        "id": "UdE_ULYbW1Vm"
      },
      "execution_count": null,
      "outputs": []
    }
  ]
}