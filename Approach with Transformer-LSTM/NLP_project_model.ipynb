{
  "cells": [
    {
      "cell_type": "code",
      "execution_count": null,
      "metadata": {
        "colab": {
          "base_uri": "https://localhost:8080/"
        },
        "id": "g5VM7dYlGpLF",
        "outputId": "aa2c3357-b6a0-420a-cc9c-6256b35722aa"
      },
      "outputs": [],
      "source": [
        "!pip install pandas==1.5.0"
      ]
    },
    {
      "cell_type": "code",
      "execution_count": null,
      "metadata": {
        "colab": {
          "base_uri": "https://localhost:8080/"
        },
        "id": "vbZpJDAsLcHR",
        "outputId": "4745d77a-85ec-4f76-9bb4-bfb8574f037e"
      },
      "outputs": [],
      "source": [
        "from google.colab import drive\n",
        "drive.mount('/content/drive')"
      ]
    },
    {
      "cell_type": "code",
      "execution_count": null,
      "metadata": {
        "colab": {
          "base_uri": "https://localhost:8080/"
        },
        "id": "6jXV8W5yGd3l",
        "outputId": "38f67bb8-b5df-4107-b2b4-efe9c32da42e"
      },
      "outputs": [],
      "source": [
        "import pandas as pd\n",
        "\n",
        "print(pd.__version__)"
      ]
    },
    {
      "cell_type": "code",
      "execution_count": null,
      "metadata": {
        "id": "LUs-IROQLad4"
      },
      "outputs": [],
      "source": [
        "import pandas as pd\n",
        "import numpy as np\n",
        "\n",
        "df = pd.read_pickle('/content/drive/MyDrive/train_features_legalBert_preamble.pkl')\n",
        "df2 = pd.read_pickle('/content/drive/MyDrive/dev_features_legalBert_preamble.pkl')"
      ]
    },
    {
      "cell_type": "code",
      "execution_count": null,
      "metadata": {
        "colab": {
          "base_uri": "https://localhost:8080/",
          "height": 206
        },
        "id": "t-Sd1stac-iV",
        "outputId": "4058e1bc-df51-4977-f2b2-113809369042"
      },
      "outputs": [],
      "source": [
        "df2.head()"
      ]
    },
    {
      "cell_type": "code",
      "execution_count": null,
      "metadata": {
        "id": "tyhnyNUeLvSi"
      },
      "outputs": [],
      "source": [
        "features = df[['features']].to_numpy()\n",
        "labels = df[['labels']].to_numpy()\n",
        "\n",
        "all_features = []\n",
        "all_labels = []\n",
        "for i in range(len(df)):\n",
        "  all_features.append(np.array(features[i][0]))\n",
        "  all_labels.append(np.array(labels[i][0]))\n",
        "\n",
        "all_features = np.array(all_features)\n",
        "all_labels = np.array(all_labels)"
      ]
    },
    {
      "cell_type": "code",
      "execution_count": null,
      "metadata": {
        "id": "EHDw0-Epc0si"
      },
      "outputs": [],
      "source": [
        "dev_feat = df[['features']].to_numpy()\n",
        "dev_lab = df[['labels']].to_numpy()\n",
        "\n",
        "feature_dev = []\n",
        "label_dev = []\n",
        "for i in range(len(df2)):\n",
        "  feature_dev.append(np.array(dev_feat[i][0]))\n",
        "  label_dev.append(np.array(dev_lab[i][0]))\n",
        "\n",
        "feature_dev = np.array(feature_dev)\n",
        "label_dev = np.array(label_dev)"
      ]
    },
    {
      "cell_type": "code",
      "execution_count": null,
      "metadata": {
        "colab": {
          "base_uri": "https://localhost:8080/"
        },
        "id": "xH2uSZYWdolR",
        "outputId": "9e9f9ea4-f770-4ec0-f78d-028abe1ba601"
      },
      "outputs": [],
      "source": [
        "print(len(feature_dev), len(label_dev))"
      ]
    },
    {
      "cell_type": "code",
      "execution_count": null,
      "metadata": {
        "colab": {
          "base_uri": "https://localhost:8080/"
        },
        "id": "bnLBQs5_1tKE",
        "outputId": "9f6ad763-d4ae-4cc9-a6c3-58f8872dc273"
      },
      "outputs": [],
      "source": [
        "print(all_features.shape)"
      ]
    },
    {
      "cell_type": "code",
      "execution_count": null,
      "metadata": {
        "colab": {
          "base_uri": "https://localhost:8080/"
        },
        "id": "c-oxWJWiIoc9",
        "outputId": "31f82662-3e9f-4a9e-d00f-1caa19798e51"
      },
      "outputs": [],
      "source": [
        "from keras.utils import to_categorical\n",
        "import numpy as np\n",
        "\n",
        "\n",
        "def reshape_features_and_convert_labels(features, labels, num_classes):\n",
        "  feat = np.reshape(\n",
        "    features, (features.shape[0], features.shape[2], features.shape[3]))\n",
        "  \n",
        "  lab = to_categorical(labels, num_classes=num_classes)\n",
        "  return feat, lab\n",
        "\n",
        "\n",
        "train_features, train_labels = reshape_features_and_convert_labels(all_features, all_labels, 17)\n",
        "test_features, test_labels = reshape_features_and_convert_labels(feature_dev, label_dev, 17)\n",
        "\n",
        "half_train1_features = train_features[:len(train_features)//2]\n",
        "half_train1_labels = train_labels[:len(train_labels)//2]\n",
        "\n",
        "half_train2_features = train_features[len(train_features)//2:]\n",
        "half_train2_labels = train_labels[len(train_labels)//2:]\n",
        "\n",
        "print(half_train1_features.shape)\n",
        "print(half_train1_labels.shape)\n",
        "\n",
        "print(train_features.shape)\n",
        "print(train_labels.shape)\n",
        "\n",
        "print(test_features.shape)\n",
        "print(test_labels.shape)\n",
        "\n",
        "# print(train_labels)"
      ]
    },
    {
      "cell_type": "code",
      "execution_count": null,
      "metadata": {
        "colab": {
          "base_uri": "https://localhost:8080/"
        },
        "id": "4tPMCSiYG8z3",
        "outputId": "2c18b76b-bc09-4428-cfad-e902c939b541"
      },
      "outputs": [],
      "source": [
        "from keras.backend import dropout\n",
        "import tensorflow as tf\n",
        "from keras.models import Sequential\n",
        "from keras.layers import LSTM, Dense, Bidirectional, Activation, Dropout\n",
        "from keras.callbacks import EarlyStopping\n",
        "\n",
        "model = Sequential()\n",
        "model.add(LSTM(32, return_sequences=True, input_shape=(512, 512)))\n",
        "model.add(Dropout(0.5))\n",
        "model.add(LSTM(8, return_sequences=True))\n",
        "model.add(Dense(17))\n",
        "model.add(Activation('softmax'))\n",
        "model.compile(loss='categorical_crossentropy',\n",
        "              optimizer='adam', metrics=['accuracy', \n",
        "                                         tf.keras.metrics.Precision(), \n",
        "                                         tf.keras.metrics.Recall()])\n",
        "model.summary()"
      ]
    },
    {
      "cell_type": "code",
      "execution_count": null,
      "metadata": {
        "colab": {
          "base_uri": "https://localhost:8080/"
        },
        "id": "JU3kCIBvHyvv",
        "outputId": "f16cbcb6-9391-4172-e268-d2ef86ede327"
      },
      "outputs": [],
      "source": [
        "history1 = model.fit(x=half_train1_features, \n",
        "                     y=half_train1_labels, batch_size=250, \n",
        "                     epochs=20)"
      ]
    },
    {
      "cell_type": "code",
      "execution_count": null,
      "metadata": {
        "colab": {
          "base_uri": "https://localhost:8080/",
          "height": 573
        },
        "id": "a94Y04xFe8uL",
        "outputId": "f6bd1f6d-00e4-4b58-a677-0ffcf827c2d1"
      },
      "outputs": [],
      "source": [
        "import matplotlib.pyplot as plt\n",
        "\n",
        "plt.plot(history1.history['accuracy'])\n",
        "plt.title('model accuracy')\n",
        "plt.ylabel('accuracy')\n",
        "plt.xlabel('epoch')\n",
        "plt.legend(['train1', 'train2'])\n",
        "plt.show()\n",
        "# summarize history for loss\n",
        "plt.plot(history1.history['loss'])\n",
        "plt.title('model loss')\n",
        "plt.ylabel('loss')\n",
        "plt.xlabel('epoch')\n",
        "plt.legend(['train1', 'train2'])\n",
        "plt.show()"
      ]
    },
    {
      "cell_type": "code",
      "execution_count": null,
      "metadata": {
        "colab": {
          "base_uri": "https://localhost:8080/"
        },
        "id": "yv4aagj_elxt",
        "outputId": "64f35395-7a72-4e51-88c5-02f046a4faca"
      },
      "outputs": [],
      "source": [
        "# half_test_features = train_features[len(train_features)//2:900]\n",
        "# half_test_labels = train_labels[len(train_labels)//2:900]\n",
        "\n",
        "# print(half_test_features.shape)\n",
        "# print(half_test_labels.shape)\n"
      ]
    },
    {
      "cell_type": "code",
      "execution_count": null,
      "metadata": {
        "colab": {
          "base_uri": "https://localhost:8080/"
        },
        "id": "uPGmBSwcfKje",
        "outputId": "cff8ed56-54ce-484a-a047-66168ff3c176"
      },
      "outputs": [],
      "source": [
        "print(\"Evaluate on test data\")\n",
        "results = model.evaluate(test_features, test_labels)\n",
        "print(\"test loss, test acc:\", results)"
      ]
    },
    {
      "cell_type": "code",
      "execution_count": null,
      "metadata": {
        "colab": {
          "base_uri": "https://localhost:8080/",
          "height": 818
        },
        "id": "Nxr5OYwyfPzw",
        "outputId": "aa6f6d5b-936c-4080-8b4d-ce0b5b8bd70f"
      },
      "outputs": [],
      "source": [
        "from sklearn.metrics import confusion_matrix, plot_confusion_matrix, classification_report\n",
        "import numpy as np\n",
        "import seaborn as sns\n",
        "import matplotlib.pyplot as plt\n",
        "\n",
        "\n",
        "predictions = model.predict(test_features)\n",
        "predicted_labels = np.argmax(predictions, axis=2)\n",
        "# print(predicted_labels)\n",
        "print(len(predicted_labels))\n",
        "print(predicted_labels[1])\n",
        "\n",
        "print(classification_report(test_features, predictions))\n",
        "\n",
        "# Tlabels = np.argmax(half_test_labels, axis=2)\n",
        "# y_predict = np.argmax(model.predict(half_test_features), axis=2)\n",
        "# print(classification_report(Tlabels, y_predict))\n",
        "\n",
        "\n",
        "\n",
        "# label_dict = {\n",
        "#     'accident_Cropped': 0,\n",
        "#     'call_Cropped': 1,\n",
        "#     'doctor_Cropped': 2,\n",
        "#     'help_Cropped': 3,\n",
        "#     'hot_Cropped': 4,\n",
        "#     'lose_Cropped': 5,\n",
        "#     'pain_Cropped': 6,\n",
        "#     'thief_Cropped': 7,\n",
        "# }\n",
        "\n",
        "# # print([str(label_dict[i])+\":\"+str(label_dict[j]) for i,j in enumerate(Tlabels, predicted_labels)])\n",
        "\n",
        "# matrix_confusion = confusion_matrix(Tlabels, predicted_labels)\n",
        "# matrix_confusion\n",
        "\n",
        "# sns.heatmap(matrix_confusion.T, square = True, annot = True, fmt = 'd', cbar = False)\n",
        "# plt.xlabel(\"True label\") \n",
        "# plt.ylabel(\"Predicted label\")\n",
        "\n",
        "# print(classification_report(Tlabels, predicted_labels, target_names=['accident', 'call', 'doctor', 'help', 'hot', 'lose', 'pain', 'thief']))"
      ]
    },
    {
      "cell_type": "code",
      "execution_count": null,
      "metadata": {
        "colab": {
          "base_uri": "https://localhost:8080/"
        },
        "id": "8rTDXVFfhyHu",
        "outputId": "fce0f11c-ad56-4c2e-b452-aadf16ca840c"
      },
      "outputs": [],
      "source": [
        "# print(half_test_features[0])\n",
        "# print(y_predict[0])"
      ]
    },
    {
      "cell_type": "code",
      "execution_count": null,
      "metadata": {
        "colab": {
          "base_uri": "https://localhost:8080/",
          "height": 161
        },
        "id": "lb-NnnuCmzY_",
        "outputId": "cd3109db-9506-4d88-cedf-82a1402b2b5c"
      },
      "outputs": [],
      "source": [
        "import pandas as pd\n",
        "\n",
        "final_df = pd.read_csv('/content/drive/MyDrive/Final_DataFrame_Dev_Preamble')\n",
        "\n"
      ]
    },
    {
      "cell_type": "code",
      "execution_count": null,
      "metadata": {
        "colab": {
          "base_uri": "https://localhost:8080/"
        },
        "id": "FeCKaNVnnuo0",
        "outputId": "13380bd0-59ef-43f4-aa2d-d67b86946c4a"
      },
      "outputs": [],
      "source": [
        "train_sents = final_df['clean_sent'].to_list()\n",
        "train_labels = final_df['tags'].to_list()\n",
        "\n",
        "print(len(train_sents))\n",
        "print(len(train_labels))\n",
        "\n",
        "train_sents = [train_sents[i].replace(\"'\", \"\").strip(\n",
        "    '][').split(', ') for i in range(len(train_sents))]\n",
        "train_labels = [train_labels[i].replace(\"'\", \"\").strip(\n",
        "    '][').split(', ') for i in range(len(train_labels))]\n",
        "\n",
        "\n",
        "print(len(train_sents[0]))\n",
        "print(train_labels[8])\n",
        "\n",
        "\n"
      ]
    },
    {
      "cell_type": "code",
      "execution_count": null,
      "metadata": {
        "colab": {
          "base_uri": "https://localhost:8080/"
        },
        "id": "m-elwxPAncm6",
        "outputId": "b18f929c-5f2a-4cfe-cc4d-4bb8d9866d31"
      },
      "outputs": [],
      "source": [
        "print([sent for sent in train_sents])"
      ]
    },
    {
      "cell_type": "code",
      "execution_count": null,
      "metadata": {
        "id": "btC3ia6Slq53"
      },
      "outputs": [],
      "source": [
        "\n",
        "# def get_dict_map(df , token_or_tag):\n",
        "#     \"\"\"\n",
        "#     converts word to index\n",
        "\n",
        "#     [Need changes !!!]\n",
        "#     \"\"\"\n",
        "#     tok2idx = {}\n",
        "#     idx2tok = {}\n",
        "\n",
        "#     vocab = []\n",
        "\n",
        "#     if token_or_tag == 'token':\n",
        "#         for sent in df:\n",
        "#           vocab.extend( list(set(sent)) )\n",
        "\n",
        "#         vocab = set(vocab)\n",
        "\n",
        "#     else :\n",
        "#         for sent in df:\n",
        "#           vocab.extend( list(set(sent)) )\n",
        "        \n",
        "#         vocab = set(vocab)\n",
        "\n",
        "\n",
        "#     idx2tok = {idx:tok for idx , tok in enumerate(vocab)}\n",
        "#     tok2idx = {tok:idx for idx , tok in enumerate(vocab)}\n",
        "\n",
        "#     return tok2idx, idx2tok\n",
        "\n",
        "\n"
      ]
    },
    {
      "cell_type": "code",
      "execution_count": null,
      "metadata": {
        "id": "0js2FUXrON0b"
      },
      "outputs": [],
      "source": [
        "import json\n",
        "\n",
        "f = open('/content/drive/MyDrive/tag2idx_Preamble')\n",
        "tag2idx = json.load(f)\n",
        "# Closing file\n",
        "f.close()"
      ]
    },
    {
      "cell_type": "code",
      "execution_count": null,
      "metadata": {
        "colab": {
          "base_uri": "https://localhost:8080/"
        },
        "id": "3K9Tgs6kOiBk",
        "outputId": "e7827222-db9d-4efd-e0aa-87ff1862d1f5"
      },
      "outputs": [],
      "source": [
        "print(tag2idx)"
      ]
    },
    {
      "cell_type": "code",
      "execution_count": null,
      "metadata": {
        "id": "_MDuhOWkOPnx"
      },
      "outputs": [],
      "source": [
        "import json\n",
        "\n",
        "f = open('/content/drive/MyDrive/idx2tag_Preamble')\n",
        "idx2tag = json.load(f)\n",
        "# Closing file\n",
        "f.close()\n"
      ]
    },
    {
      "cell_type": "code",
      "execution_count": null,
      "metadata": {
        "colab": {
          "base_uri": "https://localhost:8080/"
        },
        "id": "qGHm4rO4Okvc",
        "outputId": "73195427-4c5c-4c1f-92cf-d6c39982eba4"
      },
      "outputs": [],
      "source": [
        "print(idx2tag)"
      ]
    },
    {
      "cell_type": "code",
      "execution_count": null,
      "metadata": {
        "id": "sbgJ2qgcmac1"
      },
      "outputs": [],
      "source": [
        "# word2idx, idx2word = get_dict_map(train_sents, 'token')\n",
        "# tag2idx, idx2tag = get_dict_map(train_labels, 'tag')"
      ]
    },
    {
      "cell_type": "code",
      "execution_count": null,
      "metadata": {
        "colab": {
          "base_uri": "https://localhost:8080/"
        },
        "id": "cOAX32PpmVgu",
        "outputId": "2db8b166-2fa2-4553-fed5-842ee7daea76"
      },
      "outputs": [],
      "source": [
        "print(idx2tag)\n",
        "print(idx2tag[str(5)])"
      ]
    },
    {
      "cell_type": "code",
      "execution_count": null,
      "metadata": {
        "id": "JH6LM_Iqmdd9"
      },
      "outputs": [],
      "source": [
        "def conversion(prediction, idx2tag):\n",
        "  tag_seq = []\n",
        "  for i,p in enumerate(prediction):\n",
        "    if p != 16:\n",
        "      tag_seq.append(idx2tag[str(p)])\n",
        "  return tag_seq"
      ]
    },
    {
      "cell_type": "code",
      "execution_count": null,
      "metadata": {
        "colab": {
          "base_uri": "https://localhost:8080/"
        },
        "id": "HZsCxD8LProS",
        "outputId": "48872bf7-18f6-45c6-b5d6-d3e490364e89"
      },
      "outputs": [],
      "source": [
        "tags = conversion(predicted_labels[18], idx2tag)\n",
        "o_tags = conversion(label_dev[18], idx2tag)\n",
        "\n",
        "for tag in tags:\n",
        "  print(tag, end=\",\")"
      ]
    },
    {
      "cell_type": "code",
      "execution_count": null,
      "metadata": {
        "colab": {
          "base_uri": "https://localhost:8080/"
        },
        "id": "q34qvmqMQ05S",
        "outputId": "adc185b4-14ce-4e3b-a3fd-24928efb254b"
      },
      "outputs": [],
      "source": [
        "print(tags)\n",
        "print(o_tags)"
      ]
    }
  ],
  "metadata": {
    "accelerator": "GPU",
    "colab": {
      "provenance": []
    },
    "gpuClass": "standard",
    "kernelspec": {
      "display_name": "Python 3",
      "language": "python",
      "name": "python3"
    },
    "language_info": {
      "name": "python",
      "version": "3.9.13 (main, May 24 2022, 21:13:51) \n[Clang 13.1.6 (clang-1316.0.21.2)]"
    },
    "vscode": {
      "interpreter": {
        "hash": "b0fa6594d8f4cbf19f97940f81e996739fb7646882a419484c72d19e05852a7e"
      }
    }
  },
  "nbformat": 4,
  "nbformat_minor": 0
}
